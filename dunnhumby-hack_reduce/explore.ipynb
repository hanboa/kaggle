{
 "metadata": {
  "name": "explore"
 },
 "nbformat": 3,
 "nbformat_minor": 0,
 "worksheets": [
  {
   "cells": [
    {
     "cell_type": "code",
     "collapsed": false,
     "input": [
      "import pandas as pd"
     ],
     "language": "python",
     "metadata": {},
     "outputs": [],
     "prompt_number": 1
    },
    {
     "cell_type": "code",
     "collapsed": false,
     "input": [
      "ex = pd.read_csv('example_submission.csv')\n",
      "ex.head()"
     ],
     "language": "python",
     "metadata": {},
     "outputs": [
      {
       "html": [
        "<div style=\"max-height:1000px;max-width:1500px;overflow:auto;\">\n",
        "<table border=\"1\" class=\"dataframe\">\n",
        "  <thead>\n",
        "    <tr style=\"text-align: right;\">\n",
        "      <th></th>\n",
        "      <th>Product_Launch_Id</th>\n",
        "      <th>Weeks_Since_Launch</th>\n",
        "      <th>Units_that_sold_that_week</th>\n",
        "    </tr>\n",
        "  </thead>\n",
        "  <tbody>\n",
        "    <tr>\n",
        "      <th>0</th>\n",
        "      <td> 166</td>\n",
        "      <td> 26</td>\n",
        "      <td> 0</td>\n",
        "    </tr>\n",
        "    <tr>\n",
        "      <th>1</th>\n",
        "      <td> 167</td>\n",
        "      <td> 26</td>\n",
        "      <td> 0</td>\n",
        "    </tr>\n",
        "    <tr>\n",
        "      <th>2</th>\n",
        "      <td> 168</td>\n",
        "      <td> 26</td>\n",
        "      <td> 0</td>\n",
        "    </tr>\n",
        "    <tr>\n",
        "      <th>3</th>\n",
        "      <td> 353</td>\n",
        "      <td> 26</td>\n",
        "      <td> 0</td>\n",
        "    </tr>\n",
        "    <tr>\n",
        "      <th>4</th>\n",
        "      <td> 354</td>\n",
        "      <td> 26</td>\n",
        "      <td> 0</td>\n",
        "    </tr>\n",
        "  </tbody>\n",
        "</table>\n",
        "</div>"
       ],
       "output_type": "pyout",
       "prompt_number": 5,
       "text": [
        "   Product_Launch_Id  Weeks_Since_Launch  Units_that_sold_that_week\n",
        "0                166                  26                          0\n",
        "1                167                  26                          0\n",
        "2                168                  26                          0\n",
        "3                353                  26                          0\n",
        "4                354                  26                          0"
       ]
      }
     ],
     "prompt_number": 5
    },
    {
     "cell_type": "code",
     "collapsed": false,
     "input": [
      "ex.Units_that_sold_that_week.plot()"
     ],
     "language": "python",
     "metadata": {},
     "outputs": [
      {
       "output_type": "pyout",
       "prompt_number": 7,
       "text": [
        "<matplotlib.axes.AxesSubplot at 0x105a066d0>"
       ]
      },
      {
       "output_type": "display_data",
       "png": "[encoded data removed]"
      }
     ],
     "prompt_number": 7
    },
    {
     "cell_type": "code",
     "collapsed": false,
     "input": [
      "data = pd.read_csv('training_set.csv')"
     ],
     "language": "python",
     "metadata": {},
     "outputs": [],
     "prompt_number": 8
    },
    {
     "cell_type": "code",
     "collapsed": false,
     "input": [
      "data"
     ],
     "language": "python",
     "metadata": {},
     "outputs": [
      {
       "html": [
        "<pre>\n",
        "&ltclass 'pandas.core.frame.DataFrame'&gt\n",
        "Int64Index: 71968 entries, 0 to 71967\n",
        "Data columns (total 18 columns):\n",
        "Product_Launch_Id                                            71968  non-null values\n",
        "Product_Category                                             71968  non-null values\n",
        "Weeks_Since_Launch                                           71968  non-null values\n",
        "Stores_Selling                                               71968  non-null values\n",
        "Units_that_sold_that_week                                    71968  non-null values\n",
        "Distinct_Customers_Buying_At_Least_Once_Cumulative           71968  non-null values\n",
        "Distinct_Customers_Buying_More_Than_Once_Cumulative          71968  non-null values\n",
        "Cumulative_Units_Sold_To_Convenience_At_Home_Customers       71968  non-null values\n",
        "Cumulative_Units_Sold_To_Family_Focussed_Customers           71968  non-null values\n",
        "Cumulative_Units_Sold_To_Finest_Customers                    71968  non-null values\n",
        "Cumulative_Units_Sold_To_Grab_and_Go_Customers               71968  non-null values\n",
        "Cumulative_Units_Sold_To_Shoppers_On_A_Budget                71968  non-null values\n",
        "Cumulative_Units_Sold_To_Traditional_Homes_Customers         71968  non-null values\n",
        "Cumulative_Units_Sold_To_Watching_The_Waistline_Customers    71968  non-null values\n",
        "Cumulative_Units_Sold_To_Least_Price_Sensitive_Customers     71968  non-null values\n",
        "Cumulative_Units_Sold_To_Price_Sensitive_Customers           71968  non-null values\n",
        "Cumulative_Units_Sold_To_Splurge_And_Save_Customers          71968  non-null values\n",
        "Cumulative_Units_Sold_To_Very_Price_Sensitive_Customers      71968  non-null values\n",
        "dtypes: int64(17), object(1)\n",
        "</pre>"
       ],
       "output_type": "pyout",
       "prompt_number": 10,
       "text": [
        "<class 'pandas.core.frame.DataFrame'>\n",
        "Int64Index: 71968 entries, 0 to 71967\n",
        "Data columns (total 18 columns):\n",
        "Product_Launch_Id                                            71968  non-null values\n",
        "Product_Category                                             71968  non-null values\n",
        "Weeks_Since_Launch                                           71968  non-null values\n",
        "Stores_Selling                                               71968  non-null values\n",
        "Units_that_sold_that_week                                    71968  non-null values\n",
        "Distinct_Customers_Buying_At_Least_Once_Cumulative           71968  non-null values\n",
        "Distinct_Customers_Buying_More_Than_Once_Cumulative          71968  non-null values\n",
        "Cumulative_Units_Sold_To_Convenience_At_Home_Customers       71968  non-null values\n",
        "Cumulative_Units_Sold_To_Family_Focussed_Customers           71968  non-null values\n",
        "Cumulative_Units_Sold_To_Finest_Customers                    71968  non-null values\n",
        "Cumulative_Units_Sold_To_Grab_and_Go_Customers               71968  non-null values\n",
        "Cumulative_Units_Sold_To_Shoppers_On_A_Budget                71968  non-null values\n",
        "Cumulative_Units_Sold_To_Traditional_Homes_Customers         71968  non-null values\n",
        "Cumulative_Units_Sold_To_Watching_The_Waistline_Customers    71968  non-null values\n",
        "Cumulative_Units_Sold_To_Least_Price_Sensitive_Customers     71968  non-null values\n",
        "Cumulative_Units_Sold_To_Price_Sensitive_Customers           71968  non-null values\n",
        "Cumulative_Units_Sold_To_Splurge_And_Save_Customers          71968  non-null values\n",
        "Cumulative_Units_Sold_To_Very_Price_Sensitive_Customers      71968  non-null values\n",
        "dtypes: int64(17), object(1)"
       ]
      }
     ],
     "prompt_number": 10
    },
    {
     "cell_type": "code",
     "collapsed": false,
     "input": [
      "data.dtypes"
     ],
     "language": "python",
     "metadata": {},
     "outputs": [
      {
       "output_type": "pyout",
       "prompt_number": 11,
       "text": [
        "Product_Launch_Id                                             int64\n",
        "Product_Category                                             object\n",
        "Weeks_Since_Launch                                            int64\n",
        "Stores_Selling                                                int64\n",
        "Units_that_sold_that_week                                     int64\n",
        "Distinct_Customers_Buying_At_Least_Once_Cumulative            int64\n",
        "Distinct_Customers_Buying_More_Than_Once_Cumulative           int64\n",
        "Cumulative_Units_Sold_To_Convenience_At_Home_Customers        int64\n",
        "Cumulative_Units_Sold_To_Family_Focussed_Customers            int64\n",
        "Cumulative_Units_Sold_To_Finest_Customers                     int64\n",
        "Cumulative_Units_Sold_To_Grab_and_Go_Customers                int64\n",
        "Cumulative_Units_Sold_To_Shoppers_On_A_Budget                 int64\n",
        "Cumulative_Units_Sold_To_Traditional_Homes_Customers          int64\n",
        "Cumulative_Units_Sold_To_Watching_The_Waistline_Customers     int64\n",
        "Cumulative_Units_Sold_To_Least_Price_Sensitive_Customers      int64\n",
        "Cumulative_Units_Sold_To_Price_Sensitive_Customers            int64\n",
        "Cumulative_Units_Sold_To_Splurge_And_Save_Customers           int64\n",
        "Cumulative_Units_Sold_To_Very_Price_Sensitive_Customers       int64\n",
        "dtype: object"
       ]
      }
     ],
     "prompt_number": 11
    },
    {
     "cell_type": "code",
     "collapsed": false,
     "input": [
      "data.Weeks_Since_Launch[:30].plot(style='.')"
     ],
     "language": "python",
     "metadata": {},
     "outputs": [
      {
       "output_type": "pyout",
       "prompt_number": 17,
       "text": [
        "<matplotlib.axes.AxesSubplot at 0x1060a09d0>"
       ]
      },
      {
       "output_type": "display_data",
       "png": "[encoded data removed]"
      }
     ],
     "prompt_number": 17
    },
    {
     "cell_type": "code",
     "collapsed": false,
     "input": [
      "data.Units_that_sold_that_week"
     ],
     "language": "python",
     "metadata": {},
     "outputs": [
      {
       "output_type": "pyout",
       "prompt_number": 22,
       "text": [
        "0     132\n",
        "1     433\n",
        "2     294\n",
        "3     230\n",
        "4     139\n",
        "5      96\n",
        "6      70\n",
        "7      39\n",
        "8      39\n",
        "9      62\n",
        "10     31\n",
        "11     34\n",
        "12     43\n",
        "13     45\n",
        "14     46\n",
        "...\n",
        "71953     715\n",
        "71954     710\n",
        "71955     714\n",
        "71956     694\n",
        "71957    1154\n",
        "71958     911\n",
        "71959     611\n",
        "71960     647\n",
        "71961     627\n",
        "71962     655\n",
        "71963     580\n",
        "71964     559\n",
        "71965     569\n",
        "71966     536\n",
        "71967     569\n",
        "Name: Units_that_sold_that_week, Length: 71968, dtype: int64"
       ]
      }
     ],
     "prompt_number": 22
    },
    {
     "cell_type": "code",
     "collapsed": false,
     "input": [
      "data.Stores_Selling"
     ],
     "language": "python",
     "metadata": {},
     "outputs": [
      {
       "output_type": "pyout",
       "prompt_number": 20,
       "text": [
        "0     38\n",
        "1     83\n",
        "2     77\n",
        "3     72\n",
        "4     58\n",
        "5     45\n",
        "6     36\n",
        "7     27\n",
        "8     21\n",
        "9     33\n",
        "10    20\n",
        "11    18\n",
        "12    25\n",
        "13    18\n",
        "14    24\n",
        "...\n",
        "71953    440\n",
        "71954    429\n",
        "71955    411\n",
        "71956    417\n",
        "71957    624\n",
        "71958    503\n",
        "71959    380\n",
        "71960    380\n",
        "71961    365\n",
        "71962    376\n",
        "71963    342\n",
        "71964    338\n",
        "71965    339\n",
        "71966    323\n",
        "71967    326\n",
        "Name: Stores_Selling, Length: 71968, dtype: int64"
       ]
      }
     ],
     "prompt_number": 20
    },
    {
     "cell_type": "code",
     "collapsed": false,
     "input": [
      ".8 * data.shape[0]"
     ],
     "language": "python",
     "metadata": {},
     "outputs": [
      {
       "output_type": "pyout",
       "prompt_number": 21,
       "text": [
        "57574.4"
       ]
      }
     ],
     "prompt_number": 21
    },
    {
     "cell_type": "code",
     "collapsed": false,
     "input": [
      "qq = pd.read_csv('question_set.csv')\n",
      "qq"
     ],
     "language": "python",
     "metadata": {},
     "outputs": [
      {
       "html": [
        "<pre>\n",
        "&ltclass 'pandas.core.frame.DataFrame'&gt\n",
        "Int64Index: 28314 entries, 0 to 28313\n",
        "Data columns (total 18 columns):\n",
        "Product_Launch_Id                                            28314  non-null values\n",
        "Product_Category                                             28314  non-null values\n",
        "Weeks_Since_Launch                                           28314  non-null values\n",
        "Stores_Selling                                               28314  non-null values\n",
        "Units_that_sold_that_week                                    14157  non-null values\n",
        "Distinct_Customers_Buying_At_Least_Once_Cumulative           14157  non-null values\n",
        "Distinct_Customers_Buying_More_Than_Once_Cumulative          14157  non-null values\n",
        "Cumulative_Units_Sold_To_Convenience_At_Home_Customers       14157  non-null values\n",
        "Cumulative_Units_Sold_To_Family_Focussed_Customers           14157  non-null values\n",
        "Cumulative_Units_Sold_To_Finest_Customers                    14157  non-null values\n",
        "Cumulative_Units_Sold_To_Grab_and_Go_Customers               14157  non-null values\n",
        "Cumulative_Units_Sold_To_Shoppers_On_A_Budget                14157  non-null values\n",
        "Cumulative_Units_Sold_To_Traditional_Homes_Customers         14157  non-null values\n",
        "Cumulative_Units_Sold_To_Watching_The_Waistline_Customers    14157  non-null values\n",
        "Cumulative_Units_Sold_To_Least_Price_Sensitive_Customers     14157  non-null values\n",
        "Cumulative_Units_Sold_To_Price_Sensitive_Customers           14157  non-null values\n",
        "Cumulative_Units_Sold_To_Splurge_And_Save_Customers          14157  non-null values\n",
        "Cumulative_Units_Sold_To_Very_Price_Sensitive_Customers      14157  non-null values\n",
        "dtypes: float64(14), int64(3), object(1)\n",
        "</pre>"
       ],
       "output_type": "pyout",
       "prompt_number": 23,
       "text": [
        "<class 'pandas.core.frame.DataFrame'>\n",
        "Int64Index: 28314 entries, 0 to 28313\n",
        "Data columns (total 18 columns):\n",
        "Product_Launch_Id                                            28314  non-null values\n",
        "Product_Category                                             28314  non-null values\n",
        "Weeks_Since_Launch                                           28314  non-null values\n",
        "Stores_Selling                                               28314  non-null values\n",
        "Units_that_sold_that_week                                    14157  non-null values\n",
        "Distinct_Customers_Buying_At_Least_Once_Cumulative           14157  non-null values\n",
        "Distinct_Customers_Buying_More_Than_Once_Cumulative          14157  non-null values\n",
        "Cumulative_Units_Sold_To_Convenience_At_Home_Customers       14157  non-null values\n",
        "Cumulative_Units_Sold_To_Family_Focussed_Customers           14157  non-null values\n",
        "Cumulative_Units_Sold_To_Finest_Customers                    14157  non-null values\n",
        "Cumulative_Units_Sold_To_Grab_and_Go_Customers               14157  non-null values\n",
        "Cumulative_Units_Sold_To_Shoppers_On_A_Budget                14157  non-null values\n",
        "Cumulative_Units_Sold_To_Traditional_Homes_Customers         14157  non-null values\n",
        "Cumulative_Units_Sold_To_Watching_The_Waistline_Customers    14157  non-null values\n",
        "Cumulative_Units_Sold_To_Least_Price_Sensitive_Customers     14157  non-null values\n",
        "Cumulative_Units_Sold_To_Price_Sensitive_Customers           14157  non-null values\n",
        "Cumulative_Units_Sold_To_Splurge_And_Save_Customers          14157  non-null values\n",
        "Cumulative_Units_Sold_To_Very_Price_Sensitive_Customers      14157  non-null values\n",
        "dtypes: float64(14), int64(3), object(1)"
       ]
      }
     ],
     "prompt_number": 23
    },
    {
     "cell_type": "code",
     "collapsed": false,
     "input": [
      "qq.iloc[:30,:4]"
     ],
     "language": "python",
     "metadata": {},
     "outputs": [
      {
       "html": [
        "<div style=\"max-height:1000px;max-width:1500px;overflow:auto;\">\n",
        "<table border=\"1\" class=\"dataframe\">\n",
        "  <thead>\n",
        "    <tr style=\"text-align: right;\">\n",
        "      <th></th>\n",
        "      <th>Product_Launch_Id</th>\n",
        "      <th>Product_Category</th>\n",
        "      <th>Weeks_Since_Launch</th>\n",
        "      <th>Stores_Selling</th>\n",
        "    </tr>\n",
        "  </thead>\n",
        "  <tbody>\n",
        "    <tr>\n",
        "      <th>0 </th>\n",
        "      <td> 166</td>\n",
        "      <td> Trail Mix &amp; Snacks</td>\n",
        "      <td>  1</td>\n",
        "      <td>   1</td>\n",
        "    </tr>\n",
        "    <tr>\n",
        "      <th>1 </th>\n",
        "      <td> 166</td>\n",
        "      <td> Trail Mix &amp; Snacks</td>\n",
        "      <td>  2</td>\n",
        "      <td>  50</td>\n",
        "    </tr>\n",
        "    <tr>\n",
        "      <th>2 </th>\n",
        "      <td> 166</td>\n",
        "      <td> Trail Mix &amp; Snacks</td>\n",
        "      <td>  3</td>\n",
        "      <td> 170</td>\n",
        "    </tr>\n",
        "    <tr>\n",
        "      <th>3 </th>\n",
        "      <td> 166</td>\n",
        "      <td> Trail Mix &amp; Snacks</td>\n",
        "      <td>  4</td>\n",
        "      <td> 600</td>\n",
        "    </tr>\n",
        "    <tr>\n",
        "      <th>4 </th>\n",
        "      <td> 166</td>\n",
        "      <td> Trail Mix &amp; Snacks</td>\n",
        "      <td>  5</td>\n",
        "      <td> 827</td>\n",
        "    </tr>\n",
        "    <tr>\n",
        "      <th>5 </th>\n",
        "      <td> 166</td>\n",
        "      <td> Trail Mix &amp; Snacks</td>\n",
        "      <td>  6</td>\n",
        "      <td> 770</td>\n",
        "    </tr>\n",
        "    <tr>\n",
        "      <th>6 </th>\n",
        "      <td> 166</td>\n",
        "      <td> Trail Mix &amp; Snacks</td>\n",
        "      <td>  7</td>\n",
        "      <td> 599</td>\n",
        "    </tr>\n",
        "    <tr>\n",
        "      <th>7 </th>\n",
        "      <td> 166</td>\n",
        "      <td> Trail Mix &amp; Snacks</td>\n",
        "      <td>  8</td>\n",
        "      <td> 416</td>\n",
        "    </tr>\n",
        "    <tr>\n",
        "      <th>8 </th>\n",
        "      <td> 166</td>\n",
        "      <td> Trail Mix &amp; Snacks</td>\n",
        "      <td>  9</td>\n",
        "      <td> 384</td>\n",
        "    </tr>\n",
        "    <tr>\n",
        "      <th>9 </th>\n",
        "      <td> 166</td>\n",
        "      <td> Trail Mix &amp; Snacks</td>\n",
        "      <td> 10</td>\n",
        "      <td> 282</td>\n",
        "    </tr>\n",
        "    <tr>\n",
        "      <th>10</th>\n",
        "      <td> 166</td>\n",
        "      <td> Trail Mix &amp; Snacks</td>\n",
        "      <td> 11</td>\n",
        "      <td> 227</td>\n",
        "    </tr>\n",
        "    <tr>\n",
        "      <th>11</th>\n",
        "      <td> 166</td>\n",
        "      <td> Trail Mix &amp; Snacks</td>\n",
        "      <td> 12</td>\n",
        "      <td> 181</td>\n",
        "    </tr>\n",
        "    <tr>\n",
        "      <th>12</th>\n",
        "      <td> 166</td>\n",
        "      <td> Trail Mix &amp; Snacks</td>\n",
        "      <td> 13</td>\n",
        "      <td> 147</td>\n",
        "    </tr>\n",
        "    <tr>\n",
        "      <th>13</th>\n",
        "      <td> 166</td>\n",
        "      <td> Trail Mix &amp; Snacks</td>\n",
        "      <td> 14</td>\n",
        "      <td> 143</td>\n",
        "    </tr>\n",
        "    <tr>\n",
        "      <th>14</th>\n",
        "      <td> 166</td>\n",
        "      <td> Trail Mix &amp; Snacks</td>\n",
        "      <td> 15</td>\n",
        "      <td> 126</td>\n",
        "    </tr>\n",
        "    <tr>\n",
        "      <th>15</th>\n",
        "      <td> 166</td>\n",
        "      <td> Trail Mix &amp; Snacks</td>\n",
        "      <td> 16</td>\n",
        "      <td>  88</td>\n",
        "    </tr>\n",
        "    <tr>\n",
        "      <th>16</th>\n",
        "      <td> 166</td>\n",
        "      <td> Trail Mix &amp; Snacks</td>\n",
        "      <td> 17</td>\n",
        "      <td>  61</td>\n",
        "    </tr>\n",
        "    <tr>\n",
        "      <th>17</th>\n",
        "      <td> 166</td>\n",
        "      <td> Trail Mix &amp; Snacks</td>\n",
        "      <td> 18</td>\n",
        "      <td>  68</td>\n",
        "    </tr>\n",
        "    <tr>\n",
        "      <th>18</th>\n",
        "      <td> 166</td>\n",
        "      <td> Trail Mix &amp; Snacks</td>\n",
        "      <td> 19</td>\n",
        "      <td>  68</td>\n",
        "    </tr>\n",
        "    <tr>\n",
        "      <th>19</th>\n",
        "      <td> 166</td>\n",
        "      <td> Trail Mix &amp; Snacks</td>\n",
        "      <td> 20</td>\n",
        "      <td>  55</td>\n",
        "    </tr>\n",
        "    <tr>\n",
        "      <th>20</th>\n",
        "      <td> 166</td>\n",
        "      <td> Trail Mix &amp; Snacks</td>\n",
        "      <td> 21</td>\n",
        "      <td>  57</td>\n",
        "    </tr>\n",
        "    <tr>\n",
        "      <th>21</th>\n",
        "      <td> 166</td>\n",
        "      <td> Trail Mix &amp; Snacks</td>\n",
        "      <td> 22</td>\n",
        "      <td>  62</td>\n",
        "    </tr>\n",
        "    <tr>\n",
        "      <th>22</th>\n",
        "      <td> 166</td>\n",
        "      <td> Trail Mix &amp; Snacks</td>\n",
        "      <td> 23</td>\n",
        "      <td>  76</td>\n",
        "    </tr>\n",
        "    <tr>\n",
        "      <th>23</th>\n",
        "      <td> 166</td>\n",
        "      <td> Trail Mix &amp; Snacks</td>\n",
        "      <td> 24</td>\n",
        "      <td>  82</td>\n",
        "    </tr>\n",
        "    <tr>\n",
        "      <th>24</th>\n",
        "      <td> 166</td>\n",
        "      <td> Trail Mix &amp; Snacks</td>\n",
        "      <td> 25</td>\n",
        "      <td>  74</td>\n",
        "    </tr>\n",
        "    <tr>\n",
        "      <th>25</th>\n",
        "      <td> 166</td>\n",
        "      <td> Trail Mix &amp; Snacks</td>\n",
        "      <td> 26</td>\n",
        "      <td>  79</td>\n",
        "    </tr>\n",
        "    <tr>\n",
        "      <th>26</th>\n",
        "      <td> 167</td>\n",
        "      <td> Trail Mix &amp; Snacks</td>\n",
        "      <td>  1</td>\n",
        "      <td>   1</td>\n",
        "    </tr>\n",
        "    <tr>\n",
        "      <th>27</th>\n",
        "      <td> 167</td>\n",
        "      <td> Trail Mix &amp; Snacks</td>\n",
        "      <td>  2</td>\n",
        "      <td>  97</td>\n",
        "    </tr>\n",
        "    <tr>\n",
        "      <th>28</th>\n",
        "      <td> 167</td>\n",
        "      <td> Trail Mix &amp; Snacks</td>\n",
        "      <td>  3</td>\n",
        "      <td> 676</td>\n",
        "    </tr>\n",
        "    <tr>\n",
        "      <th>29</th>\n",
        "      <td> 167</td>\n",
        "      <td> Trail Mix &amp; Snacks</td>\n",
        "      <td>  4</td>\n",
        "      <td> 940</td>\n",
        "    </tr>\n",
        "  </tbody>\n",
        "</table>\n",
        "</div>"
       ],
       "output_type": "pyout",
       "prompt_number": 67,
       "text": [
        "    Product_Launch_Id    Product_Category  Weeks_Since_Launch  Stores_Selling\n",
        "0                 166  Trail Mix & Snacks                   1               1\n",
        "1                 166  Trail Mix & Snacks                   2              50\n",
        "2                 166  Trail Mix & Snacks                   3             170\n",
        "3                 166  Trail Mix & Snacks                   4             600\n",
        "4                 166  Trail Mix & Snacks                   5             827\n",
        "5                 166  Trail Mix & Snacks                   6             770\n",
        "6                 166  Trail Mix & Snacks                   7             599\n",
        "7                 166  Trail Mix & Snacks                   8             416\n",
        "8                 166  Trail Mix & Snacks                   9             384\n",
        "9                 166  Trail Mix & Snacks                  10             282\n",
        "10                166  Trail Mix & Snacks                  11             227\n",
        "11                166  Trail Mix & Snacks                  12             181\n",
        "12                166  Trail Mix & Snacks                  13             147\n",
        "13                166  Trail Mix & Snacks                  14             143\n",
        "14                166  Trail Mix & Snacks                  15             126\n",
        "15                166  Trail Mix & Snacks                  16              88\n",
        "16                166  Trail Mix & Snacks                  17              61\n",
        "17                166  Trail Mix & Snacks                  18              68\n",
        "18                166  Trail Mix & Snacks                  19              68\n",
        "19                166  Trail Mix & Snacks                  20              55\n",
        "20                166  Trail Mix & Snacks                  21              57\n",
        "21                166  Trail Mix & Snacks                  22              62\n",
        "22                166  Trail Mix & Snacks                  23              76\n",
        "23                166  Trail Mix & Snacks                  24              82\n",
        "24                166  Trail Mix & Snacks                  25              74\n",
        "25                166  Trail Mix & Snacks                  26              79\n",
        "26                167  Trail Mix & Snacks                   1               1\n",
        "27                167  Trail Mix & Snacks                   2              97\n",
        "28                167  Trail Mix & Snacks                   3             676\n",
        "29                167  Trail Mix & Snacks                   4             940"
       ]
      }
     ],
     "prompt_number": 67
    },
    {
     "cell_type": "code",
     "collapsed": false,
     "input": [
      "qq.Cumulative_Units_Sold_To_Convenience_At_Home_Customers[:30]"
     ],
     "language": "python",
     "metadata": {},
     "outputs": [
      {
       "output_type": "pyout",
       "prompt_number": 26,
       "text": [
        "0        0\n",
        "1       16\n",
        "2       82\n",
        "3      307\n",
        "4      663\n",
        "5      985\n",
        "6     1233\n",
        "7     1375\n",
        "8     1525\n",
        "9     1626\n",
        "10    1705\n",
        "11    1768\n",
        "12    1822\n",
        "13     NaN\n",
        "14     NaN\n",
        "15     NaN\n",
        "16     NaN\n",
        "17     NaN\n",
        "18     NaN\n",
        "19     NaN\n",
        "20     NaN\n",
        "21     NaN\n",
        "22     NaN\n",
        "23     NaN\n",
        "24     NaN\n",
        "25     NaN\n",
        "26       0\n",
        "27      36\n",
        "28     357\n",
        "29     796\n",
        "Name: Cumulative_Units_Sold_To_Convenience_At_Home_Customers, dtype: float64"
       ]
      }
     ],
     "prompt_number": 26
    },
    {
     "cell_type": "code",
     "collapsed": false,
     "input": [
      "pd.Categorical.from_array(data.Product_Category).levels"
     ],
     "language": "python",
     "metadata": {},
     "outputs": [
      {
       "output_type": "pyout",
       "prompt_number": 32,
       "text": [
        "Index([Air Care, Apples, Backpacks/Duffels/Totes, Bacon, Bag Snacks, Bagels&cream Cheese, Baked Breads, Baked Sweet Goods, Baking Mixes, Bath Shop, Bath Tissue, Bed Pillows/Pads, Beef:grinds, Berries, Beverages, Bookstore, Bouquet Everyday Musical, Bread, Breakfast Sausage, Brooms & Mops, Bulk Plastics, Cake Decor, Cakes, Can Seafood - Shelf Stable, Can Vegetables - Shelf Stable, Candles And Giftware, Candy - Checklane, Candy - Packaged, Canned Soups, Cereal Bars, Cereals, Cheese, Chicken & Poultry, Chicken Fresh, Chicken Frozen, Chicken Grinds, Chicken Specialty/Natural, Cigarettes, Citrus, Closet, Cnv Breakfast&wholesome Snks, Coffee & Creamers, Coffee Shop, Cold Cereal, Cold Meal Solutions, Condiments & Sauces, Convenience/Snacking, Convenient Meals, Cook/Bakeware, Cookie/Cracker Multi-Pks, Cookies, Corn, Crackers & Misc Baked Food, Croutons/Bread Stick&salad Top, Deli Meat: Bulk, Deli Meat: Presliced, Deodorants, Dietary Aid Prdct/Med Liq Nutr, Dinner Mixes-Dry, Dinnerware, Dishwash Detergents, Disp Fd Storage Containrs, Disposable Foilware, Dog Treats, Domestic Beer, Domestic Goods, Domestic Wine, Dressings/Dips, Dried Fruit, Dry Bean Veg&rice, Dry Cat Food, Dry Dog Food, Dry Noodles & Pasta, Dry Sce/Gravy/Potatoes/Stuffng, Dry Tea/Coffee/Coco Mixes, Dvds, Energy Drinks, Facial Tissue, Flavored Malt Beverages, Fluid Milk Products, Food Prep, Food Storage & Preparation, Frozen Bread/Dough, Frozen Breakfast Foods, Frozen Desserts, Frozen Entrees, Frozen Fruits, Frozen Handhelds & Snacks, Frozen Ice, Frozen Juice And Smoothies, Frozen Novelties-Water Ice, Frozen Pizza, Frozen Potatoes, Frozen Snacks And Handhelds, Frozen Vegetable & Veg Dish, Fruit Snacks, Frzn Meatless, Frzn Multi Serve, Frzn Prepared Chicken, Frzn Seafood, Frzn Ss Economy Meals, Frzn Ss Premium Meals, Games, Glassware/Flatware, Hair Care Products, Hand Body & Facial Products, Heat/Serve, Hot Cereal, Hot Dogs, Household Cleaning Needs, Household Storage, Ice Cream Ice Milk & Sherbets, Infant Formula, Insecticides, Isotonic Drinks, Juice, Juices Super Premium, Kitchen, Lamb, Laundry Additives, Laundry Detergents, Lightbulbs, Lunchmeat, Magazines, Margarines, Meat Frozen, Meat Snacks, Milk By-Products, Napkins&moist Cleaning Cloth, Nuts, Oral Hygiene Products, Orchids Potted, Paper Housewares, Paper Towels, Pasta & Pizza Sauce, Peanut Butter/Jelly/Jams&honey, Peppers, Pet Care Supplies, Pickle/Relish/Pckld Veg&olives, Pies, Popcorn, Pork Boneless Loin/Rib, Pork Grinds, Pork Thin Meats, Portable Audio, Potatoes, Powder & Crystal Drink Mix, Prepared Food, Prepared/Pdgd Foods, Quick Clean, Ready To Heat, Refrgratd Juices/Drinks, Refrgrated Dough Products, Refrigerated Dairy Case, Refrigerated Desserts, Rolls, Rtd Tea/New Age Juice, Rts/Micro Soup/Broth, Salad & Dips, Salad Dresing&sandwich Spreads, Salad Mix, Sandwiches, Sausages, Sbt Videos, Seafood - Lobster, Seafood - Shrimp, Seafood - Value Added Seafood, Shave, Shelf Stable Juice, Shortening & Oil, Single Serve Fruit/Applesauce, Single Serve Sweet Goods, Small Accessories, Snack, Snack Meat, Snacks, Soap - Liquid & Bar, Soft Drinks, Specialty Cheese Pre Pack, Sugars & Sweeteners, Sweet Goods, Sweet Goods & Snacks, Tomato Products-Shelf Stable, Tomatoes, Trail Mix & Snacks, Trash/Kitchen&lawn&leaf Bags, Tropical Fruit, Turkey Frozen, Value Added, Value Added Fruit, Vegetables Cooking Packaged, Video Games, Vitamin Products, Warehouse Snacks, Water, Wet Cat Food, Wet Dog Food, Yogurt], dtype=object)"
       ]
      }
     ],
     "prompt_number": 32
    },
    {
     "cell_type": "code",
     "collapsed": false,
     "input": [
      "pd.Categorical.from_array(qq.Product_Category).levels"
     ],
     "language": "python",
     "metadata": {},
     "outputs": [
      {
       "output_type": "pyout",
       "prompt_number": 33,
       "text": [
        "Index([Air Care, Apples, Backpacks/Duffels/Totes, Bacon, Bag Snacks, Bagels&cream Cheese, Baked Breads, Baked Sweet Goods, Baking Mixes, Bath Shop, Bath Tissue, Bed Pillows/Pads, Beef:grinds, Berries, Beverages, Bookstore, Bouquet Everyday Musical, Bread, Breakfast Sausage, Brooms & Mops, Bulk Plastics, Cake Decor, Cakes, Can Seafood - Shelf Stable, Can Vegetables - Shelf Stable, Candles And Giftware, Candy - Checklane, Candy - Packaged, Canned Soups, Cereal Bars, Cereals, Cheese, Chicken & Poultry, Chicken Fresh, Chicken Frozen, Chicken Grinds, Chicken Specialty/Natural, Cigarettes, Citrus, Closet, Cnv Breakfast&wholesome Snks, Coffee & Creamers, Coffee Shop, Cold Cereal, Cold Meal Solutions, Condiments & Sauces, Convenience/Snacking, Convenient Meals, Cook/Bakeware, Cookie/Cracker Multi-Pks, Cookies, Corn, Crackers & Misc Baked Food, Croutons/Bread Stick&salad Top, Deli Meat: Bulk, Deli Meat: Presliced, Deodorants, Dietary Aid Prdct/Med Liq Nutr, Dinner Mixes-Dry, Dinnerware, Dishwash Detergents, Disp Fd Storage Containrs, Disposable Foilware, Dog Treats, Domestic Beer, Domestic Goods, Domestic Wine, Dressings/Dips, Dried Fruit, Dry Bean Veg&rice, Dry Cat Food, Dry Dog Food, Dry Noodles & Pasta, Dry Sce/Gravy/Potatoes/Stuffng, Dry Tea/Coffee/Coco Mixes, Dvds, Energy Drinks, Facial Tissue, Flavored Malt Beverages, Fluid Milk Products, Food Prep, Food Storage & Preparation, Frozen Bread/Dough, Frozen Breakfast Foods, Frozen Desserts, Frozen Entrees, Frozen Fruits, Frozen Handhelds & Snacks, Frozen Ice, Frozen Juice And Smoothies, Frozen Novelties-Water Ice, Frozen Pizza, Frozen Potatoes, Frozen Snacks And Handhelds, Frozen Vegetable & Veg Dish, Fruit Snacks, Frzn Meatless, Frzn Multi Serve, Frzn Prepared Chicken, Frzn Seafood, Frzn Ss Economy Meals, Frzn Ss Premium Meals, Games, Glassware/Flatware, Hair Care Products, Hand Body & Facial Products, Heat/Serve, Hot Cereal, Hot Dogs, Household Cleaning Needs, Household Storage, Ice Cream Ice Milk & Sherbets, Infant Formula, Insecticides, Isotonic Drinks, Juice, Juices Super Premium, Kitchen, Lamb, Laundry Additives, Laundry Detergents, Lightbulbs, Lunchmeat, Magazines, Margarines, Meat Frozen, Meat Snacks, Milk By-Products, Napkins&moist Cleaning Cloth, Nuts, Oral Hygiene Products, Orchids Potted, Paper Housewares, Paper Towels, Pasta & Pizza Sauce, Peanut Butter/Jelly/Jams&honey, Peppers, Pet Care Supplies, Pickle/Relish/Pckld Veg&olives, Pies, Popcorn, Pork Boneless Loin/Rib, Pork Grinds, Pork Thin Meats, Portable Audio, Potatoes, Powder & Crystal Drink Mix, Prepared Food, Prepared/Pdgd Foods, Quick Clean, Ready To Heat, Refrgratd Juices/Drinks, Refrgrated Dough Products, Refrigerated Dairy Case, Refrigerated Desserts, Rolls, Rtd Tea/New Age Juice, Rts/Micro Soup/Broth, Salad & Dips, Salad Dresing&sandwich Spreads, Salad Mix, Sandwiches, Sausages, Sbt Videos, Seafood - Lobster, Seafood - Shrimp, Seafood - Value Added Seafood, Shave, Shelf Stable Juice, Shortening & Oil, Single Serve Fruit/Applesauce, Single Serve Sweet Goods, Small Accessories, Snack, Snack Meat, Snacks, Soap - Liquid & Bar, Soft Drinks, Specialty Cheese Pre Pack, Sugars & Sweeteners, Sweet Goods, Sweet Goods & Snacks, Tomato Products-Shelf Stable, Tomatoes, Trail Mix & Snacks, Trash/Kitchen&lawn&leaf Bags, Tropical Fruit, Turkey Frozen, Value Added, Value Added Fruit, Vegetables Cooking Packaged, Video Games, Vitamin Products, Warehouse Snacks, Water, Wet Cat Food, Wet Dog Food, Yogurt], dtype=object)"
       ]
      }
     ],
     "prompt_number": 33
    },
    {
     "cell_type": "code",
     "collapsed": false,
     "input": [
      "data.Product_Launch_Id"
     ],
     "language": "python",
     "metadata": {},
     "outputs": [
      {
       "output_type": "pyout",
       "prompt_number": 28,
       "text": [
        "0     1\n",
        "1     1\n",
        "2     1\n",
        "3     1\n",
        "4     1\n",
        "5     1\n",
        "6     1\n",
        "7     1\n",
        "8     1\n",
        "9     1\n",
        "10    1\n",
        "11    1\n",
        "12    1\n",
        "13    1\n",
        "14    1\n",
        "...\n",
        "71953    5726\n",
        "71954    5726\n",
        "71955    5726\n",
        "71956    5726\n",
        "71957    5726\n",
        "71958    5726\n",
        "71959    5726\n",
        "71960    5726\n",
        "71961    5726\n",
        "71962    5726\n",
        "71963    5726\n",
        "71964    5726\n",
        "71965    5726\n",
        "71966    5726\n",
        "71967    5726\n",
        "Name: Product_Launch_Id, Length: 71968, dtype: int64"
       ]
      }
     ],
     "prompt_number": 28
    },
    {
     "cell_type": "code",
     "collapsed": false,
     "input": [
      "(data.columns - ['Product_Launch_Id', 'Product_Category', 'Weeks_Since_Launch']).shape"
     ],
     "language": "python",
     "metadata": {},
     "outputs": [
      {
       "output_type": "pyout",
       "prompt_number": 111,
       "text": [
        "(15,)"
       ]
      }
     ],
     "prompt_number": 111
    },
    {
     "cell_type": "code",
     "collapsed": false,
     "input": [
      "dfs = []\n",
      "\n",
      "for k, df in grouped:\n",
      "    dfs.append(df)"
     ],
     "language": "python",
     "metadata": {},
     "outputs": [],
     "prompt_number": 69
    },
    {
     "cell_type": "code",
     "collapsed": false,
     "input": [
      "dfs[0].iloc[:5,:4]"
     ],
     "language": "python",
     "metadata": {},
     "outputs": [
      {
       "html": [
        "<div style=\"max-height:1000px;max-width:1500px;overflow:auto;\">\n",
        "<table border=\"1\" class=\"dataframe\">\n",
        "  <thead>\n",
        "    <tr style=\"text-align: right;\">\n",
        "      <th></th>\n",
        "      <th>Product_Launch_Id</th>\n",
        "      <th>Product_Category</th>\n",
        "      <th>Weeks_Since_Launch</th>\n",
        "      <th>Stores_Selling</th>\n",
        "    </tr>\n",
        "  </thead>\n",
        "  <tbody>\n",
        "    <tr>\n",
        "      <th>0</th>\n",
        "      <td> 1</td>\n",
        "      <td> Dvds</td>\n",
        "      <td> 1</td>\n",
        "      <td> 38</td>\n",
        "    </tr>\n",
        "    <tr>\n",
        "      <th>1</th>\n",
        "      <td> 1</td>\n",
        "      <td> Dvds</td>\n",
        "      <td> 2</td>\n",
        "      <td> 83</td>\n",
        "    </tr>\n",
        "    <tr>\n",
        "      <th>2</th>\n",
        "      <td> 1</td>\n",
        "      <td> Dvds</td>\n",
        "      <td> 3</td>\n",
        "      <td> 77</td>\n",
        "    </tr>\n",
        "    <tr>\n",
        "      <th>3</th>\n",
        "      <td> 1</td>\n",
        "      <td> Dvds</td>\n",
        "      <td> 4</td>\n",
        "      <td> 72</td>\n",
        "    </tr>\n",
        "    <tr>\n",
        "      <th>4</th>\n",
        "      <td> 1</td>\n",
        "      <td> Dvds</td>\n",
        "      <td> 5</td>\n",
        "      <td> 58</td>\n",
        "    </tr>\n",
        "  </tbody>\n",
        "</table>\n",
        "</div>"
       ],
       "output_type": "pyout",
       "prompt_number": 78,
       "text": [
        "   Product_Launch_Id Product_Category  Weeks_Since_Launch  Stores_Selling\n",
        "0                  1             Dvds                   1              38\n",
        "1                  1             Dvds                   2              83\n",
        "2                  1             Dvds                   3              77\n",
        "3                  1             Dvds                   4              72\n",
        "4                  1             Dvds                   5              58"
       ]
      }
     ],
     "prompt_number": 78
    },
    {
     "cell_type": "code",
     "collapsed": false,
     "input": [
      "data.columns"
     ],
     "language": "python",
     "metadata": {},
     "outputs": [
      {
       "output_type": "pyout",
       "prompt_number": 104,
       "text": [
        "Index([Product_Launch_Id, Product_Category, Weeks_Since_Launch, Stores_Selling, Units_that_sold_that_week, Distinct_Customers_Buying_At_Least_Once_Cumulative, Distinct_Customers_Buying_More_Than_Once_Cumulative, Cumulative_Units_Sold_To_Convenience_At_Home_Customers, Cumulative_Units_Sold_To_Family_Focussed_Customers, Cumulative_Units_Sold_To_Finest_Customers, Cumulative_Units_Sold_To_Grab_and_Go_Customers, Cumulative_Units_Sold_To_Shoppers_On_A_Budget, Cumulative_Units_Sold_To_Traditional_Homes_Customers, Cumulative_Units_Sold_To_Watching_The_Waistline_Customers, Cumulative_Units_Sold_To_Least_Price_Sensitive_Customers, Cumulative_Units_Sold_To_Price_Sensitive_Customers, Cumulative_Units_Sold_To_Splurge_And_Save_Customers, Cumulative_Units_Sold_To_Very_Price_Sensitive_Customers], dtype=object)"
       ]
      }
     ],
     "prompt_number": 104
    },
    {
     "cell_type": "code",
     "collapsed": false,
     "input": [
      "one_feature = pd.pivot_table(data, rows=['Product_Launch_Id', 'Product_Category'], values=['Units_that_sold_that_week'], \n",
      "                                   cols=['Weeks_Since_Launch'])"
     ],
     "language": "python",
     "metadata": {},
     "outputs": [],
     "prompt_number": 137
    },
    {
     "cell_type": "code",
     "collapsed": false,
     "input": [
      "one_feature.iloc[:5,:4]"
     ],
     "language": "python",
     "metadata": {},
     "outputs": [
      {
       "html": [
        "<div style=\"max-height:1000px;max-width:1500px;overflow:auto;\">\n",
        "<table border=\"1\" class=\"dataframe\">\n",
        "  <thead>\n",
        "    <tr>\n",
        "      <th></th>\n",
        "      <th></th>\n",
        "      <th colspan=\"4\" halign=\"left\">Units_that_sold_that_week</th>\n",
        "    </tr>\n",
        "    <tr>\n",
        "      <th></th>\n",
        "      <th>Weeks_Since_Launch</th>\n",
        "      <th>1</th>\n",
        "      <th>2</th>\n",
        "      <th>3</th>\n",
        "      <th>4</th>\n",
        "    </tr>\n",
        "    <tr>\n",
        "      <th>Product_Launch_Id</th>\n",
        "      <th>Product_Category</th>\n",
        "      <th></th>\n",
        "      <th></th>\n",
        "      <th></th>\n",
        "      <th></th>\n",
        "    </tr>\n",
        "  </thead>\n",
        "  <tbody>\n",
        "    <tr>\n",
        "      <th>1</th>\n",
        "      <th>Dvds</th>\n",
        "      <td> 132</td>\n",
        "      <td>  433</td>\n",
        "      <td>  294</td>\n",
        "      <td> 230</td>\n",
        "    </tr>\n",
        "    <tr>\n",
        "      <th>2</th>\n",
        "      <th>Bookstore</th>\n",
        "      <td>   9</td>\n",
        "      <td>  681</td>\n",
        "      <td>  446</td>\n",
        "      <td> 258</td>\n",
        "    </tr>\n",
        "    <tr>\n",
        "      <th>3</th>\n",
        "      <th>Bookstore</th>\n",
        "      <td>   4</td>\n",
        "      <td>  387</td>\n",
        "      <td>  377</td>\n",
        "      <td> 262</td>\n",
        "    </tr>\n",
        "    <tr>\n",
        "      <th>4</th>\n",
        "      <th>Bookstore</th>\n",
        "      <td>  25</td>\n",
        "      <td> 1173</td>\n",
        "      <td>  846</td>\n",
        "      <td> 533</td>\n",
        "    </tr>\n",
        "    <tr>\n",
        "      <th>6</th>\n",
        "      <th>Lightbulbs</th>\n",
        "      <td> 588</td>\n",
        "      <td> 1337</td>\n",
        "      <td> 1615</td>\n",
        "      <td> 739</td>\n",
        "    </tr>\n",
        "  </tbody>\n",
        "</table>\n",
        "</div>"
       ],
       "output_type": "pyout",
       "prompt_number": 146,
       "text": [
        "                                    Units_that_sold_that_week                 \n",
        "Weeks_Since_Launch                                          1     2     3    4\n",
        "Product_Launch_Id Product_Category                                            \n",
        "1                 Dvds                                    132   433   294  230\n",
        "2                 Bookstore                                 9   681   446  258\n",
        "3                 Bookstore                                 4   387   377  262\n",
        "4                 Bookstore                                25  1173   846  533\n",
        "6                 Lightbulbs                              588  1337  1615  739"
       ]
      }
     ],
     "prompt_number": 146
    },
    {
     "cell_type": "code",
     "collapsed": false,
     "input": [
      "one_feature.iloc[6,:].plot()"
     ],
     "language": "python",
     "metadata": {},
     "outputs": [
      {
       "output_type": "pyout",
       "prompt_number": 147,
       "text": [
        "<matplotlib.axes.AxesSubplot at 0x10d0a8d90>"
       ]
      },
      {
       "output_type": "display_data",
       "png": "[encoded data removed]"
      }
     ],
     "prompt_number": 147
    },
    {
     "cell_type": "code",
     "collapsed": false,
     "input": [
      "tdata = data[data.Weeks_Since_Launch < 14]"
     ],
     "language": "python",
     "metadata": {},
     "outputs": [],
     "prompt_number": 202
    },
    {
     "cell_type": "code",
     "collapsed": false,
     "input": [
      "features = tdata.columns - ['Product_Launch_Id', 'Product_Category', 'Units_that_sold_that_week', 'Weeks_Since_Launch']"
     ],
     "language": "python",
     "metadata": {},
     "outputs": [],
     "prompt_number": 203
    },
    {
     "cell_type": "code",
     "collapsed": false,
     "input": [
      "print features"
     ],
     "language": "python",
     "metadata": {},
     "outputs": [
      {
       "output_type": "stream",
       "stream": "stdout",
       "text": [
        "Index([Cumulative_Units_Sold_To_Convenience_At_Home_Customers, Cumulative_Units_Sold_To_Family_Focussed_Customers, Cumulative_Units_Sold_To_Finest_Customers, Cumulative_Units_Sold_To_Grab_and_Go_Customers, Cumulative_Units_Sold_To_Least_Price_Sensitive_Customers, Cumulative_Units_Sold_To_Price_Sensitive_Customers, Cumulative_Units_Sold_To_Shoppers_On_A_Budget, Cumulative_Units_Sold_To_Splurge_And_Save_Customers, Cumulative_Units_Sold_To_Traditional_Homes_Customers, Cumulative_Units_Sold_To_Very_Price_Sensitive_Customers, Cumulative_Units_Sold_To_Watching_The_Waistline_Customers, Distinct_Customers_Buying_At_Least_Once_Cumulative, Distinct_Customers_Buying_More_Than_Once_Cumulative, Stores_Selling], dtype=object)\n"
       ]
      }
     ],
     "prompt_number": 204
    },
    {
     "cell_type": "code",
     "collapsed": false,
     "input": [
      "alldata = pd.DataFrame()\n",
      "\n",
      "for ff in features: \n",
      "    #print ff\n",
      "    alldata = pd.concat( [alldata, pd.pivot_table(tdata, rows=['Product_Launch_Id', 'Product_Category'], values=[str(ff)], \n",
      "                                                         cols=['Weeks_Since_Launch'])], axis=1 )"
     ],
     "language": "python",
     "metadata": {},
     "outputs": [],
     "prompt_number": 224
    },
    {
     "cell_type": "code",
     "collapsed": false,
     "input": [
      "data[data.Weeks_Since_Launch==26].set_index(['Product_Launch_Id', 'Product_Category'])['Units_that_sold_that_week']"
     ],
     "language": "python",
     "metadata": {},
     "outputs": [
      {
       "output_type": "pyout",
       "prompt_number": 225,
       "text": [
        "Product_Launch_Id  Product_Category\n",
        "1                  Dvds                  27\n",
        "2                  Bookstore              4\n",
        "3                  Bookstore              5\n",
        "4                  Bookstore              3\n",
        "6                  Lightbulbs            71\n",
        "9                  Candy - Packaged    2921\n",
        "11                 Candy - Packaged    1335\n",
        "14                 Bookstore              3\n",
        "15                 Bookstore              3\n",
        "19                 Soft Drinks           16\n",
        "20                 Soft Drinks           23\n",
        "21                 Soft Drinks           27\n",
        "22                 Soft Drinks           13\n",
        "23                 Soft Drinks           36\n",
        "24                 Lightbulbs           431\n",
        "...\n",
        "5340               Yogurt                        318\n",
        "5341               Yogurt                        410\n",
        "5342               Yogurt                        427\n",
        "5390               Frzn Ss Premium Meals         560\n",
        "5391               Frzn Ss Premium Meals         476\n",
        "5413               Salad & Dips                  182\n",
        "5420               Refrgratd Juices/Drinks      2349\n",
        "5475               Frzn Prepared Chicken         190\n",
        "5490               Dry Bean Veg&rice             310\n",
        "5552               Bath Shop                     213\n",
        "5579               Ready To Heat                 265\n",
        "5580               Ready To Heat                  24\n",
        "5661               Dry Tea/Coffee/Coco Mixes      19\n",
        "5662               Dry Tea/Coffee/Coco Mixes      16\n",
        "5726               Frzn Ss Premium Meals         569\n",
        "Name: Units_that_sold_that_week, Length: 2768, dtype: int64"
       ]
      }
     ],
     "prompt_number": 225
    },
    {
     "cell_type": "code",
     "collapsed": false,
     "input": [
      "alldata"
     ],
     "language": "python",
     "metadata": {},
     "outputs": [
      {
       "html": [
        "<pre>\n",
        "&ltclass 'pandas.core.frame.DataFrame'&gt\n",
        "MultiIndex: 2768 entries, (1, Dvds) to (5726, Frzn Ss Premium Meals)\n",
        "Columns: 182 entries, (Cumulative_Units_Sold_To_Convenience_At_Home_Customers, 1) to (Stores_Selling, 13)\n",
        "dtypes: int64(182)\n",
        "</pre>"
       ],
       "output_type": "pyout",
       "prompt_number": 226,
       "text": [
        "<class 'pandas.core.frame.DataFrame'>\n",
        "MultiIndex: 2768 entries, (1, Dvds) to (5726, Frzn Ss Premium Meals)\n",
        "Columns: 182 entries, (Cumulative_Units_Sold_To_Convenience_At_Home_Customers, 1) to (Stores_Selling, 13)\n",
        "dtypes: int64(182)"
       ]
      }
     ],
     "prompt_number": 226
    },
    {
     "cell_type": "code",
     "collapsed": false,
     "input": [
      "alldata.iloc[:5,0]"
     ],
     "language": "python",
     "metadata": {},
     "outputs": [
      {
       "output_type": "pyout",
       "prompt_number": 228,
       "text": [
        "Product_Launch_Id  Product_Category\n",
        "1                  Dvds                32\n",
        "2                  Bookstore            2\n",
        "3                  Bookstore            1\n",
        "4                  Bookstore           12\n",
        "6                  Lightbulbs          83\n",
        "Name: (Cumulative_Units_Sold_To_Convenience_At_Home_Customers, 1), dtype: int64"
       ]
      }
     ],
     "prompt_number": 228
    },
    {
     "cell_type": "code",
     "collapsed": false,
     "input": [
      "alldata.columns"
     ],
     "language": "python",
     "metadata": {},
     "outputs": [
      {
       "output_type": "pyout",
       "prompt_number": 229,
       "text": [
        "Index([(Cumulative_Units_Sold_To_Convenience_At_Home_Customers, 1), (Cumulative_Units_Sold_To_Convenience_At_Home_Customers, 2), (Cumulative_Units_Sold_To_Convenience_At_Home_Customers, 3), (Cumulative_Units_Sold_To_Convenience_At_Home_Customers, 4), (Cumulative_Units_Sold_To_Convenience_At_Home_Customers, 5), (Cumulative_Units_Sold_To_Convenience_At_Home_Customers, 6), (Cumulative_Units_Sold_To_Convenience_At_Home_Customers, 7), (Cumulative_Units_Sold_To_Convenience_At_Home_Customers, 8), (Cumulative_Units_Sold_To_Convenience_At_Home_Customers, 9), (Cumulative_Units_Sold_To_Convenience_At_Home_Customers, 10), (Cumulative_Units_Sold_To_Convenience_At_Home_Customers, 11), (Cumulative_Units_Sold_To_Convenience_At_Home_Customers, 12), (Cumulative_Units_Sold_To_Convenience_At_Home_Customers, 13), (Cumulative_Units_Sold_To_Family_Focussed_Customers, 1), (Cumulative_Units_Sold_To_Family_Focussed_Customers, 2), (Cumulative_Units_Sold_To_Family_Focussed_Customers, 3), (Cumulative_Units_Sold_To_Family_Focussed_Customers, 4), (Cumulative_Units_Sold_To_Family_Focussed_Customers, 5), (Cumulative_Units_Sold_To_Family_Focussed_Customers, 6), (Cumulative_Units_Sold_To_Family_Focussed_Customers, 7), (Cumulative_Units_Sold_To_Family_Focussed_Customers, 8), (Cumulative_Units_Sold_To_Family_Focussed_Customers, 9), (Cumulative_Units_Sold_To_Family_Focussed_Customers, 10), (Cumulative_Units_Sold_To_Family_Focussed_Customers, 11), (Cumulative_Units_Sold_To_Family_Focussed_Customers, 12), (Cumulative_Units_Sold_To_Family_Focussed_Customers, 13), (Cumulative_Units_Sold_To_Finest_Customers, 1), (Cumulative_Units_Sold_To_Finest_Customers, 2), (Cumulative_Units_Sold_To_Finest_Customers, 3), (Cumulative_Units_Sold_To_Finest_Customers, 4), (Cumulative_Units_Sold_To_Finest_Customers, 5), (Cumulative_Units_Sold_To_Finest_Customers, 6), (Cumulative_Units_Sold_To_Finest_Customers, 7), (Cumulative_Units_Sold_To_Finest_Customers, 8), (Cumulative_Units_Sold_To_Finest_Customers, 9), (Cumulative_Units_Sold_To_Finest_Customers, 10), (Cumulative_Units_Sold_To_Finest_Customers, 11), (Cumulative_Units_Sold_To_Finest_Customers, 12), (Cumulative_Units_Sold_To_Finest_Customers, 13), (Cumulative_Units_Sold_To_Grab_and_Go_Customers, 1), (Cumulative_Units_Sold_To_Grab_and_Go_Customers, 2), (Cumulative_Units_Sold_To_Grab_and_Go_Customers, 3), (Cumulative_Units_Sold_To_Grab_and_Go_Customers, 4), (Cumulative_Units_Sold_To_Grab_and_Go_Customers, 5), (Cumulative_Units_Sold_To_Grab_and_Go_Customers, 6), (Cumulative_Units_Sold_To_Grab_and_Go_Customers, 7), (Cumulative_Units_Sold_To_Grab_and_Go_Customers, 8), (Cumulative_Units_Sold_To_Grab_and_Go_Customers, 9), (Cumulative_Units_Sold_To_Grab_and_Go_Customers, 10), (Cumulative_Units_Sold_To_Grab_and_Go_Customers, 11), (Cumulative_Units_Sold_To_Grab_and_Go_Customers, 12), (Cumulative_Units_Sold_To_Grab_and_Go_Customers, 13), (Cumulative_Units_Sold_To_Least_Price_Sensitive_Customers, 1), (Cumulative_Units_Sold_To_Least_Price_Sensitive_Customers, 2), (Cumulative_Units_Sold_To_Least_Price_Sensitive_Customers, 3), (Cumulative_Units_Sold_To_Least_Price_Sensitive_Customers, 4), (Cumulative_Units_Sold_To_Least_Price_Sensitive_Customers, 5), (Cumulative_Units_Sold_To_Least_Price_Sensitive_Customers, 6), (Cumulative_Units_Sold_To_Least_Price_Sensitive_Customers, 7), (Cumulative_Units_Sold_To_Least_Price_Sensitive_Customers, 8), (Cumulative_Units_Sold_To_Least_Price_Sensitive_Customers, 9), (Cumulative_Units_Sold_To_Least_Price_Sensitive_Customers, 10), (Cumulative_Units_Sold_To_Least_Price_Sensitive_Customers, 11), (Cumulative_Units_Sold_To_Least_Price_Sensitive_Customers, 12), (Cumulative_Units_Sold_To_Least_Price_Sensitive_Customers, 13), (Cumulative_Units_Sold_To_Price_Sensitive_Customers, 1), (Cumulative_Units_Sold_To_Price_Sensitive_Customers, 2), (Cumulative_Units_Sold_To_Price_Sensitive_Customers, 3), (Cumulative_Units_Sold_To_Price_Sensitive_Customers, 4), (Cumulative_Units_Sold_To_Price_Sensitive_Customers, 5), (Cumulative_Units_Sold_To_Price_Sensitive_Customers, 6), (Cumulative_Units_Sold_To_Price_Sensitive_Customers, 7), (Cumulative_Units_Sold_To_Price_Sensitive_Customers, 8), (Cumulative_Units_Sold_To_Price_Sensitive_Customers, 9), (Cumulative_Units_Sold_To_Price_Sensitive_Customers, 10), (Cumulative_Units_Sold_To_Price_Sensitive_Customers, 11), (Cumulative_Units_Sold_To_Price_Sensitive_Customers, 12), (Cumulative_Units_Sold_To_Price_Sensitive_Customers, 13), (Cumulative_Units_Sold_To_Shoppers_On_A_Budget, 1), (Cumulative_Units_Sold_To_Shoppers_On_A_Budget, 2), (Cumulative_Units_Sold_To_Shoppers_On_A_Budget, 3), (Cumulative_Units_Sold_To_Shoppers_On_A_Budget, 4), (Cumulative_Units_Sold_To_Shoppers_On_A_Budget, 5), (Cumulative_Units_Sold_To_Shoppers_On_A_Budget, 6), (Cumulative_Units_Sold_To_Shoppers_On_A_Budget, 7), (Cumulative_Units_Sold_To_Shoppers_On_A_Budget, 8), (Cumulative_Units_Sold_To_Shoppers_On_A_Budget, 9), (Cumulative_Units_Sold_To_Shoppers_On_A_Budget, 10), (Cumulative_Units_Sold_To_Shoppers_On_A_Budget, 11), (Cumulative_Units_Sold_To_Shoppers_On_A_Budget, 12), (Cumulative_Units_Sold_To_Shoppers_On_A_Budget, 13), (Cumulative_Units_Sold_To_Splurge_And_Save_Customers, 1), (Cumulative_Units_Sold_To_Splurge_And_Save_Customers, 2), (Cumulative_Units_Sold_To_Splurge_And_Save_Customers, 3), (Cumulative_Units_Sold_To_Splurge_And_Save_Customers, 4), (Cumulative_Units_Sold_To_Splurge_And_Save_Customers, 5), (Cumulative_Units_Sold_To_Splurge_And_Save_Customers, 6), (Cumulative_Units_Sold_To_Splurge_And_Save_Customers, 7), (Cumulative_Units_Sold_To_Splurge_And_Save_Customers, 8), (Cumulative_Units_Sold_To_Splurge_And_Save_Customers, 9), (Cumulative_Units_Sold_To_Splurge_And_Save_Customers, 10), (Cumulative_Units_Sold_To_Splurge_And_Save_Customers, 11), (Cumulative_Units_Sold_To_Splurge_And_Save_Customers, 12), (Cumulative_Units_Sold_To_Splurge_And_Save_Customers, 13), (Cumulative_Units_Sold_To_Traditional_Homes_Customers, 1), (Cumulative_Units_Sold_To_Traditional_Homes_Customers, 2), (Cumulative_Units_Sold_To_Traditional_Homes_Customers, 3), (Cumulative_Units_Sold_To_Traditional_Homes_Customers, 4), (Cumulative_Units_Sold_To_Traditional_Homes_Customers, 5), (Cumulative_Units_Sold_To_Traditional_Homes_Customers, 6), (Cumulative_Units_Sold_To_Traditional_Homes_Customers, 7), (Cumulative_Units_Sold_To_Traditional_Homes_Customers, 8), (Cumulative_Units_Sold_To_Traditional_Homes_Customers, 9), (Cumulative_Units_Sold_To_Traditional_Homes_Customers, 10), (Cumulative_Units_Sold_To_Traditional_Homes_Customers, 11), (Cumulative_Units_Sold_To_Traditional_Homes_Customers, 12), (Cumulative_Units_Sold_To_Traditional_Homes_Customers, 13), (Cumulative_Units_Sold_To_Very_Price_Sensitive_Customers, 1), (Cumulative_Units_Sold_To_Very_Price_Sensitive_Customers, 2), (Cumulative_Units_Sold_To_Very_Price_Sensitive_Customers, 3), (Cumulative_Units_Sold_To_Very_Price_Sensitive_Customers, 4), (Cumulative_Units_Sold_To_Very_Price_Sensitive_Customers, 5), (Cumulative_Units_Sold_To_Very_Price_Sensitive_Customers, 6), (Cumulative_Units_Sold_To_Very_Price_Sensitive_Customers, 7), (Cumulative_Units_Sold_To_Very_Price_Sensitive_Customers, 8), (Cumulative_Units_Sold_To_Very_Price_Sensitive_Customers, 9), (Cumulative_Units_Sold_To_Very_Price_Sensitive_Customers, 10), (Cumulative_Units_Sold_To_Very_Price_Sensitive_Customers, 11), (Cumulative_Units_Sold_To_Very_Price_Sensitive_Customers, 12), (Cumulative_Units_Sold_To_Very_Price_Sensitive_Customers, 13), (Cumulative_Units_Sold_To_Watching_The_Waistline_Customers, 1), (Cumulative_Units_Sold_To_Watching_The_Waistline_Customers, 2), (Cumulative_Units_Sold_To_Watching_The_Waistline_Customers, 3), (Cumulative_Units_Sold_To_Watching_The_Waistline_Customers, 4), (Cumulative_Units_Sold_To_Watching_The_Waistline_Customers, 5), (Cumulative_Units_Sold_To_Watching_The_Waistline_Customers, 6), (Cumulative_Units_Sold_To_Watching_The_Waistline_Customers, 7), (Cumulative_Units_Sold_To_Watching_The_Waistline_Customers, 8), (Cumulative_Units_Sold_To_Watching_The_Waistline_Customers, 9), (Cumulative_Units_Sold_To_Watching_The_Waistline_Customers, 10), (Cumulative_Units_Sold_To_Watching_The_Waistline_Customers, 11), (Cumulative_Units_Sold_To_Watching_The_Waistline_Customers, 12), (Cumulative_Units_Sold_To_Watching_The_Waistline_Customers, 13), (Distinct_Customers_Buying_At_Least_Once_Cumulative, 1), (Distinct_Customers_Buying_At_Least_Once_Cumulative, 2), (Distinct_Customers_Buying_At_Least_Once_Cumulative, 3), (Distinct_Customers_Buying_At_Least_Once_Cumulative, 4), (Distinct_Customers_Buying_At_Least_Once_Cumulative, 5), (Distinct_Customers_Buying_At_Least_Once_Cumulative, 6), (Distinct_Customers_Buying_At_Least_Once_Cumulative, 7), (Distinct_Customers_Buying_At_Least_Once_Cumulative, 8), (Distinct_Customers_Buying_At_Least_Once_Cumulative, 9), (Distinct_Customers_Buying_At_Least_Once_Cumulative, 10), (Distinct_Customers_Buying_At_Least_Once_Cumulative, 11), (Distinct_Customers_Buying_At_Least_Once_Cumulative, 12), (Distinct_Customers_Buying_At_Least_Once_Cumulative, 13), (Distinct_Customers_Buying_More_Than_Once_Cumulative, 1), (Distinct_Customers_Buying_More_Than_Once_Cumulative, 2), (Distinct_Customers_Buying_More_Than_Once_Cumulative, 3), (Distinct_Customers_Buying_More_Than_Once_Cumulative, 4), (Distinct_Customers_Buying_More_Than_Once_Cumulative, 5), (Distinct_Customers_Buying_More_Than_Once_Cumulative, 6), (Distinct_Customers_Buying_More_Than_Once_Cumulative, 7), (Distinct_Customers_Buying_More_Than_Once_Cumulative, 8), (Distinct_Customers_Buying_More_Than_Once_Cumulative, 9), (Distinct_Customers_Buying_More_Than_Once_Cumulative, 10), (Distinct_Customers_Buying_More_Than_Once_Cumulative, 11), (Distinct_Customers_Buying_More_Than_Once_Cumulative, 12), (Distinct_Customers_Buying_More_Than_Once_Cumulative, 13), (Stores_Selling, 1), (Stores_Selling, 2), (Stores_Selling, 3), (Stores_Selling, 4), (Stores_Selling, 5), (Stores_Selling, 6), (Stores_Selling, 7), (Stores_Selling, 8), (Stores_Selling, 9), (Stores_Selling, 10), (Stores_Selling, 11), (Stores_Selling, 12), (Stores_Selling, 13)], dtype=object)"
       ]
      }
     ],
     "prompt_number": 229
    },
    {
     "cell_type": "code",
     "collapsed": false,
     "input": [],
     "language": "python",
     "metadata": {},
     "outputs": []
    }
   ],
   "metadata": {}
  }
 ]
}