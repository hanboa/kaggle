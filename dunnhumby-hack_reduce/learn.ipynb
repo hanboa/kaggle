{
 "metadata": {
  "name": "learn"
 },
 "nbformat": 3,
 "nbformat_minor": 0,
 "worksheets": [
  {
   "cells": [
    {
     "cell_type": "code",
     "collapsed": false,
     "input": [
      "import pandas as pd\n",
      "import numpy as np\n",
      "\n",
      "from sklearn.ensemble import RandomForestRegressor\n",
      "from sklearn.svm import SVR\n",
      "\n",
      "from sklearn.grid_search import GridSearchCV\n",
      "\n",
      "from sklearn.preprocessing import StandardScaler, MinMaxScaler, LabelEncoder"
     ],
     "language": "python",
     "metadata": {},
     "outputs": [],
     "prompt_number": 1
    },
    {
     "cell_type": "code",
     "collapsed": false,
     "input": [
      "def compute_score(y, pred):\n",
      "    from numpy import log, sqrt\n",
      "    \n",
      "    return sqrt( 1./len(y) * sum( ( log(y + 1) - log(pred + 1) )**2 ) )"
     ],
     "language": "python",
     "metadata": {},
     "outputs": [],
     "prompt_number": 38
    },
    {
     "cell_type": "code",
     "collapsed": false,
     "input": [
      "df = pd.read_csv('./data/training_set.csv')"
     ],
     "language": "python",
     "metadata": {},
     "outputs": [],
     "prompt_number": 84
    },
    {
     "cell_type": "code",
     "collapsed": false,
     "input": [
      "tdata = df[(df.Weeks_Since_Launch>10) & (df.Weeks_Since_Launch<14)]"
     ],
     "language": "python",
     "metadata": {},
     "outputs": [],
     "prompt_number": 97
    },
    {
     "cell_type": "code",
     "collapsed": false,
     "input": [
      "features = tdata.columns - ['Product_Launch_Id', 'Product_Category', 'Weeks_Since_Launch']"
     ],
     "language": "python",
     "metadata": {},
     "outputs": [],
     "prompt_number": 98
    },
    {
     "cell_type": "code",
     "collapsed": false,
     "input": [
      "alldata = pd.DataFrame()\n",
      "\n",
      "for ff in features:\n",
      "    alldata = pd.concat( [alldata, pd.pivot_table(tdata, rows=['Product_Launch_Id', 'Product_Category'], values=[str(ff)], \n",
      "                                                         cols=['Weeks_Since_Launch'])], axis=1 )"
     ],
     "language": "python",
     "metadata": {},
     "outputs": [],
     "prompt_number": 99
    },
    {
     "cell_type": "code",
     "collapsed": false,
     "input": [
      "alldata['Product_Category_Level'] = pd.Categorical.from_array(alldata.reset_index(1)['Product_Category']).labels"
     ],
     "language": "python",
     "metadata": {},
     "outputs": [],
     "prompt_number": 100
    },
    {
     "cell_type": "code",
     "collapsed": false,
     "input": [
      "target = df[df.Weeks_Since_Launch==26].set_index(['Product_Launch_Id', 'Product_Category'])['Units_that_sold_that_week']"
     ],
     "language": "python",
     "metadata": {},
     "outputs": [],
     "prompt_number": 101
    },
    {
     "cell_type": "code",
     "collapsed": false,
     "input": [
      "ntr = int(np.ceil(.8 * alldata.shape[0]))\n",
      "ntr"
     ],
     "language": "python",
     "metadata": {},
     "outputs": [
      {
       "output_type": "pyout",
       "prompt_number": 102,
       "text": [
        "2215"
       ]
      }
     ],
     "prompt_number": 102
    },
    {
     "cell_type": "heading",
     "level": 4,
     "metadata": {},
     "source": [
      "Random Forest"
     ]
    },
    {
     "cell_type": "code",
     "collapsed": false,
     "input": [
      "X = alldata.iloc[:ntr,:]\n",
      "y = target[:ntr]\n",
      "\n",
      "Xt = alldata.iloc[ntr:,:]\n",
      "yt = target[ntr:]"
     ],
     "language": "python",
     "metadata": {},
     "outputs": [],
     "prompt_number": 103
    },
    {
     "cell_type": "code",
     "collapsed": false,
     "input": [
      "tuned_parameters = [{'max_features': ['sqrt', 'log2'], 'n_estimators': [200, 300, 500, 750]}]\n",
      "\n",
      "rf = GridSearchCV( RandomForestRegressor(min_samples_split=1, compute_importances=False, n_jobs=-1), tuned_parameters, cv=3, verbose=2 ).fit(X, y)"
     ],
     "language": "python",
     "metadata": {},
     "outputs": [
      {
       "output_type": "stream",
       "stream": "stdout",
       "text": [
        "[GridSearchCV] max_features=sqrt, n_estimators=200 .............................\n"
       ]
      },
      {
       "output_type": "stream",
       "stream": "stdout",
       "text": [
        "[GridSearchCV] .................... max_features=sqrt, n_estimators=200 -  19.1s\n",
        "[GridSearchCV] max_features=sqrt, n_estimators=200 .............................\n"
       ]
      },
      {
       "output_type": "stream",
       "stream": "stderr",
       "text": [
        "[Parallel(n_jobs=1)]: Done   1 jobs       | elapsed:   19.1s\n"
       ]
      },
      {
       "output_type": "stream",
       "stream": "stdout",
       "text": [
        "[GridSearchCV] .................... max_features=sqrt, n_estimators=200 -  24.4s\n",
        "[GridSearchCV] max_features=sqrt, n_estimators=200 ............................."
       ]
      },
      {
       "output_type": "stream",
       "stream": "stdout",
       "text": [
        "\n"
       ]
      },
      {
       "output_type": "stream",
       "stream": "stdout",
       "text": [
        "[GridSearchCV] .................... max_features=sqrt, n_estimators=200 -  20.2s\n",
        "[GridSearchCV] max_features=sqrt, n_estimators=300 .............................\n"
       ]
      },
      {
       "output_type": "stream",
       "stream": "stdout",
       "text": [
        "[GridSearchCV] .................... max_features=sqrt, n_estimators=300 -  30.8s\n",
        "[GridSearchCV] max_features=sqrt, n_estimators=300 .............................\n"
       ]
      },
      {
       "output_type": "stream",
       "stream": "stdout",
       "text": [
        "[GridSearchCV] .................... max_features=sqrt, n_estimators=300 -  32.5s\n",
        "[GridSearchCV] max_features=sqrt, n_estimators=300 ............................."
       ]
      },
      {
       "output_type": "stream",
       "stream": "stdout",
       "text": [
        "\n"
       ]
      },
      {
       "output_type": "stream",
       "stream": "stdout",
       "text": [
        "[GridSearchCV] .................... max_features=sqrt, n_estimators=300 -  27.9s\n",
        "[GridSearchCV] max_features=sqrt, n_estimators=500 ............................."
       ]
      },
      {
       "output_type": "stream",
       "stream": "stdout",
       "text": [
        "\n"
       ]
      },
      {
       "output_type": "stream",
       "stream": "stdout",
       "text": [
        "[GridSearchCV] .................... max_features=sqrt, n_estimators=500 -  46.1s\n",
        "[GridSearchCV] max_features=sqrt, n_estimators=500 ............................."
       ]
      },
      {
       "output_type": "stream",
       "stream": "stdout",
       "text": [
        "\n"
       ]
      },
      {
       "output_type": "stream",
       "stream": "stdout",
       "text": [
        "[GridSearchCV] .................... max_features=sqrt, n_estimators=500 -  47.4s\n",
        "[GridSearchCV] max_features=sqrt, n_estimators=500 ............................."
       ]
      },
      {
       "output_type": "stream",
       "stream": "stdout",
       "text": [
        "\n"
       ]
      },
      {
       "output_type": "stream",
       "stream": "stdout",
       "text": [
        "[GridSearchCV] .................... max_features=sqrt, n_estimators=500 -  45.5s\n",
        "[GridSearchCV] max_features=sqrt, n_estimators=750 ............................."
       ]
      },
      {
       "output_type": "stream",
       "stream": "stdout",
       "text": [
        "\n"
       ]
      },
      {
       "output_type": "stream",
       "stream": "stdout",
       "text": [
        "[GridSearchCV] .................... max_features=sqrt, n_estimators=750 - 1.1min\n",
        "[GridSearchCV] max_features=sqrt, n_estimators=750 ............................."
       ]
      },
      {
       "output_type": "stream",
       "stream": "stdout",
       "text": [
        "\n"
       ]
      },
      {
       "output_type": "stream",
       "stream": "stdout",
       "text": [
        "[GridSearchCV] .................... max_features=sqrt, n_estimators=750 - 1.1min\n",
        "[GridSearchCV] max_features=sqrt, n_estimators=750 ............................."
       ]
      },
      {
       "output_type": "stream",
       "stream": "stdout",
       "text": [
        "\n"
       ]
      },
      {
       "output_type": "stream",
       "stream": "stdout",
       "text": [
        "[GridSearchCV] .................... max_features=sqrt, n_estimators=750 -  59.0s\n",
        "[GridSearchCV] max_features=log2, n_estimators=200 ............................."
       ]
      },
      {
       "output_type": "stream",
       "stream": "stdout",
       "text": [
        "\n"
       ]
      },
      {
       "output_type": "stream",
       "stream": "stdout",
       "text": [
        "[GridSearchCV] .................... max_features=log2, n_estimators=200 -  15.4s\n",
        "[GridSearchCV] max_features=log2, n_estimators=200 ............................."
       ]
      },
      {
       "output_type": "stream",
       "stream": "stdout",
       "text": [
        "\n"
       ]
      },
      {
       "output_type": "stream",
       "stream": "stdout",
       "text": [
        "[GridSearchCV] .................... max_features=log2, n_estimators=200 -  15.8s\n",
        "[GridSearchCV] max_features=log2, n_estimators=200 .............................\n"
       ]
      },
      {
       "output_type": "stream",
       "stream": "stdout",
       "text": [
        "[GridSearchCV] .................... max_features=log2, n_estimators=200 -  15.6s\n",
        "[GridSearchCV] max_features=log2, n_estimators=300 .............................\n"
       ]
      },
      {
       "output_type": "stream",
       "stream": "stdout",
       "text": [
        "[GridSearchCV] .................... max_features=log2, n_estimators=300 -  22.7s\n",
        "[GridSearchCV] max_features=log2, n_estimators=300 ............................."
       ]
      },
      {
       "output_type": "stream",
       "stream": "stdout",
       "text": [
        "\n"
       ]
      },
      {
       "output_type": "stream",
       "stream": "stdout",
       "text": [
        "[GridSearchCV] .................... max_features=log2, n_estimators=300 -  22.9s\n",
        "[GridSearchCV] max_features=log2, n_estimators=300 .............................\n"
       ]
      },
      {
       "output_type": "stream",
       "stream": "stdout",
       "text": [
        "[GridSearchCV] .................... max_features=log2, n_estimators=300 -  22.6s\n",
        "[GridSearchCV] max_features=log2, n_estimators=500 ............................."
       ]
      },
      {
       "output_type": "stream",
       "stream": "stdout",
       "text": [
        "\n"
       ]
      },
      {
       "output_type": "stream",
       "stream": "stdout",
       "text": [
        "[GridSearchCV] .................... max_features=log2, n_estimators=500 -  37.3s\n",
        "[GridSearchCV] max_features=log2, n_estimators=500 ............................."
       ]
      },
      {
       "output_type": "stream",
       "stream": "stdout",
       "text": [
        "\n"
       ]
      },
      {
       "output_type": "stream",
       "stream": "stdout",
       "text": [
        "[GridSearchCV] .................... max_features=log2, n_estimators=500 -  37.7s\n",
        "[GridSearchCV] max_features=log2, n_estimators=500 ............................."
       ]
      },
      {
       "output_type": "stream",
       "stream": "stdout",
       "text": [
        "\n"
       ]
      },
      {
       "output_type": "stream",
       "stream": "stdout",
       "text": [
        "[GridSearchCV] .................... max_features=log2, n_estimators=500 -  38.9s\n",
        "[GridSearchCV] max_features=log2, n_estimators=750 ............................."
       ]
      },
      {
       "output_type": "stream",
       "stream": "stdout",
       "text": [
        "\n"
       ]
      },
      {
       "output_type": "stream",
       "stream": "stdout",
       "text": [
        "[GridSearchCV] .................... max_features=log2, n_estimators=750 -  56.8s\n",
        "[GridSearchCV] max_features=log2, n_estimators=750 ............................."
       ]
      },
      {
       "output_type": "stream",
       "stream": "stdout",
       "text": [
        "\n"
       ]
      },
      {
       "output_type": "stream",
       "stream": "stdout",
       "text": [
        "[GridSearchCV] .................... max_features=log2, n_estimators=750 -  58.5s\n",
        "[GridSearchCV] max_features=log2, n_estimators=750 ............................."
       ]
      },
      {
       "output_type": "stream",
       "stream": "stdout",
       "text": [
        "\n"
       ]
      },
      {
       "output_type": "stream",
       "stream": "stdout",
       "text": [
        "[GridSearchCV] .................... max_features=log2, n_estimators=750 -  57.3s\n"
       ]
      },
      {
       "output_type": "stream",
       "stream": "stderr",
       "text": [
        "[Parallel(n_jobs=1)]: Done  24 out of  24 | elapsed: 14.8min finished\n"
       ]
      }
     ],
     "prompt_number": 104
    },
    {
     "cell_type": "code",
     "collapsed": false,
     "input": [
      "rf.best_estimator_"
     ],
     "language": "python",
     "metadata": {},
     "outputs": [
      {
       "output_type": "pyout",
       "prompt_number": 105,
       "text": [
        "RandomForestRegressor(bootstrap=True, compute_importances=False,\n",
        "           criterion='mse', max_depth=None, max_features='log2',\n",
        "           min_density=0.1, min_samples_leaf=1, min_samples_split=1,\n",
        "           n_estimators=200, n_jobs=-1, oob_score=False, random_state=None,\n",
        "           verbose=0)"
       ]
      }
     ],
     "prompt_number": 105
    },
    {
     "cell_type": "code",
     "collapsed": false,
     "input": [
      "#training error\n",
      "tpred = rf.predict(X)\n",
      "compute_score(y, tpred)"
     ],
     "language": "python",
     "metadata": {},
     "outputs": [
      {
       "output_type": "pyout",
       "prompt_number": 106,
       "text": [
        "0.71811453506231882"
       ]
      }
     ],
     "prompt_number": 106
    },
    {
     "cell_type": "code",
     "collapsed": false,
     "input": [
      "# test error\n",
      "pred = rf.predict(Xt)\n",
      "compute_score(yt, pred)"
     ],
     "language": "python",
     "metadata": {},
     "outputs": [
      {
       "output_type": "pyout",
       "prompt_number": 107,
       "text": [
        "1.0965674596179122"
       ]
      }
     ],
     "prompt_number": 107
    },
    {
     "cell_type": "code",
     "collapsed": false,
     "input": [
      "figure(figsize=(8, 5))\n",
      "\n",
      "plot( yt, 'bo', alpha=.7, label='actual' )\n",
      "plot( pred, 'rx', label='predicted' )\n",
      "\n",
      "xlim((0, 50))\n",
      "ylim((0, 1000))\n",
      "\n",
      "xlabel('sample number')\n",
      "ylabel('sold units at week 26')\n",
      "\n",
      "legend()\n",
      "grid()\n",
      "\n",
      "#savefig('./figures/randomforest_wk11to13.png')"
     ],
     "language": "python",
     "metadata": {},
     "outputs": [
      {
       "output_type": "display_data",
       "png": "[encoded data removed]"
      }
     ],
     "prompt_number": 114
    },
    {
     "cell_type": "heading",
     "level": 4,
     "metadata": {},
     "source": [
      "SVR"
     ]
    },
    {
     "cell_type": "code",
     "collapsed": false,
     "input": [
      "X = alldata.iloc[:ntr,:].astype(float)\n",
      "y = target[:ntr].astype(float)\n",
      "\n",
      "Xt = alldata.iloc[ntr:,:].astype(float)\n",
      "yt = target[ntr:].astype(float)"
     ],
     "language": "python",
     "metadata": {},
     "outputs": [],
     "prompt_number": 66
    },
    {
     "cell_type": "code",
     "collapsed": false,
     "input": [
      "scaler = MinMaxScaler(feature_range=(-1, 1))\n",
      "scaler.fit(np.c_[X, y])\n",
      "#label_scaler = StandardScaler().fit(y.astype(float))\n",
      "\n",
      "scaled = scaler.transform(np.c_[X, y])\n",
      "X = scaled[:,:-1]\n",
      "y = scaled[:,-1]\n",
      "\n",
      "t_scaled = scaler.transform(np.c_[Xt, yt])\n",
      "Xt = t_scaled[:,:-1]\n",
      "yt = t_scaled[:,-1]"
     ],
     "language": "python",
     "metadata": {},
     "outputs": [],
     "prompt_number": 67
    },
    {
     "cell_type": "code",
     "collapsed": false,
     "input": [
      "tuned_parameters = [{'kernel': ['rbf'], 'gamma': [0.1, 1e-2, 1e-3], 'C': [10, 100, 1000]}]\n",
      "\n",
      "svm = GridSearchCV( SVR(), tuned_parameters, cv=3, verbose=2 ).fit(X, y)"
     ],
     "language": "python",
     "metadata": {},
     "outputs": [
      {
       "output_type": "stream",
       "stream": "stdout",
       "text": [
        "[GridSearchCV] kernel=rbf, C=10, gamma=0.1 .....................................\n",
        "[GridSearchCV] ............................ kernel=rbf, C=10, gamma=0.1 -   0.4s"
       ]
      },
      {
       "output_type": "stream",
       "stream": "stdout",
       "text": [
        "\n",
        "[GridSearchCV] kernel=rbf, C=10, gamma=0.1 .....................................\n",
        "[GridSearchCV] ............................ kernel=rbf, C=10, gamma=0.1 -   0.4s"
       ]
      },
      {
       "output_type": "stream",
       "stream": "stdout",
       "text": [
        "\n",
        "[GridSearchCV] kernel=rbf, C=10, gamma=0.1 .....................................\n",
        "[GridSearchCV] ............................ kernel=rbf, C=10, gamma=0.1 -   0.3s"
       ]
      },
      {
       "output_type": "stream",
       "stream": "stdout",
       "text": [
        "\n",
        "[GridSearchCV] kernel=rbf, C=10, gamma=0.01 ....................................\n",
        "[GridSearchCV] ........................... kernel=rbf, C=10, gamma=0.01 -   0.2s"
       ]
      },
      {
       "output_type": "stream",
       "stream": "stdout",
       "text": [
        "\n",
        "[GridSearchCV] kernel=rbf, C=10, gamma=0.01 ....................................\n",
        "[GridSearchCV] ........................... kernel=rbf, C=10, gamma=0.01 -   0.2s"
       ]
      },
      {
       "output_type": "stream",
       "stream": "stdout",
       "text": [
        "\n",
        "[GridSearchCV] kernel=rbf, C=10, gamma=0.01 ....................................\n",
        "[GridSearchCV] ........................... kernel=rbf, C=10, gamma=0.01 -   0.2s"
       ]
      },
      {
       "output_type": "stream",
       "stream": "stdout",
       "text": [
        "\n",
        "[GridSearchCV] kernel=rbf, C=10, gamma=0.001 ...................................\n",
        "[GridSearchCV] .......................... kernel=rbf, C=10, gamma=0.001 -   0.1s"
       ]
      },
      {
       "output_type": "stream",
       "stream": "stdout",
       "text": [
        "\n",
        "[GridSearchCV] kernel=rbf, C=10, gamma=0.001 ...................................\n",
        "[GridSearchCV] .......................... kernel=rbf, C=10, gamma=0.001 -   0.2s"
       ]
      },
      {
       "output_type": "stream",
       "stream": "stdout",
       "text": [
        "\n",
        "[GridSearchCV] kernel=rbf, C=10, gamma=0.001 ...................................\n",
        "[GridSearchCV] .......................... kernel=rbf, C=10, gamma=0.001 -   0.1s"
       ]
      },
      {
       "output_type": "stream",
       "stream": "stdout",
       "text": [
        "\n",
        "[GridSearchCV] kernel=rbf, C=100, gamma=0.1 ....................................\n",
        "[GridSearchCV] ........................... kernel=rbf, C=100, gamma=0.1 -   0.4s"
       ]
      },
      {
       "output_type": "stream",
       "stream": "stdout",
       "text": [
        "\n",
        "[GridSearchCV] kernel=rbf, C=100, gamma=0.1 ....................................\n",
        "[GridSearchCV] ........................... kernel=rbf, C=100, gamma=0.1 -   0.3s"
       ]
      },
      {
       "output_type": "stream",
       "stream": "stdout",
       "text": [
        "\n",
        "[GridSearchCV] kernel=rbf, C=100, gamma=0.1 ....................................\n",
        "[GridSearchCV] ........................... kernel=rbf, C=100, gamma=0.1 -   0.3s"
       ]
      },
      {
       "output_type": "stream",
       "stream": "stdout",
       "text": [
        "\n",
        "[GridSearchCV] kernel=rbf, C=100, gamma=0.01 ...................................\n",
        "[GridSearchCV] .......................... kernel=rbf, C=100, gamma=0.01 -   0.3s"
       ]
      },
      {
       "output_type": "stream",
       "stream": "stdout",
       "text": [
        "\n",
        "[GridSearchCV] kernel=rbf, C=100, gamma=0.01 ...................................\n",
        "[GridSearchCV] .......................... kernel=rbf, C=100, gamma=0.01 -   0.3s"
       ]
      },
      {
       "output_type": "stream",
       "stream": "stdout",
       "text": [
        "\n",
        "[GridSearchCV] kernel=rbf, C=100, gamma=0.01 ...................................\n",
        "[GridSearchCV] .......................... kernel=rbf, C=100, gamma=0.01 -   0.3s"
       ]
      },
      {
       "output_type": "stream",
       "stream": "stdout",
       "text": [
        "\n",
        "[GridSearchCV] kernel=rbf, C=100, gamma=0.001 ..................................\n",
        "[GridSearchCV] ......................... kernel=rbf, C=100, gamma=0.001 -   0.3s"
       ]
      },
      {
       "output_type": "stream",
       "stream": "stdout",
       "text": [
        "\n",
        "[GridSearchCV] kernel=rbf, C=100, gamma=0.001 ..................................\n",
        "[GridSearchCV] ......................... kernel=rbf, C=100, gamma=0.001 -   0.3s"
       ]
      },
      {
       "output_type": "stream",
       "stream": "stdout",
       "text": [
        "\n",
        "[GridSearchCV] kernel=rbf, C=100, gamma=0.001 ..................................\n",
        "[GridSearchCV] ......................... kernel=rbf, C=100, gamma=0.001 -   0.2s"
       ]
      },
      {
       "output_type": "stream",
       "stream": "stdout",
       "text": [
        "\n",
        "[GridSearchCV] kernel=rbf, C=1000, gamma=0.1 ...................................\n",
        "[GridSearchCV] .......................... kernel=rbf, C=1000, gamma=0.1 -   0.4s"
       ]
      },
      {
       "output_type": "stream",
       "stream": "stdout",
       "text": [
        "\n",
        "[GridSearchCV] kernel=rbf, C=1000, gamma=0.1 ...................................\n",
        "[GridSearchCV] .......................... kernel=rbf, C=1000, gamma=0.1 -   0.3s"
       ]
      },
      {
       "output_type": "stream",
       "stream": "stdout",
       "text": [
        "\n",
        "[GridSearchCV] kernel=rbf, C=1000, gamma=0.1 ...................................\n",
        "[GridSearchCV] .......................... kernel=rbf, C=1000, gamma=0.1 -   0.3s"
       ]
      },
      {
       "output_type": "stream",
       "stream": "stdout",
       "text": [
        "\n",
        "[GridSearchCV] kernel=rbf, C=1000, gamma=0.01 ..................................\n",
        "[GridSearchCV] ......................... kernel=rbf, C=1000, gamma=0.01 -   0.7s"
       ]
      },
      {
       "output_type": "stream",
       "stream": "stdout",
       "text": [
        "\n",
        "[GridSearchCV] kernel=rbf, C=1000, gamma=0.01 ..................................\n",
        "[GridSearchCV] ......................... kernel=rbf, C=1000, gamma=0.01 -   0.5s"
       ]
      },
      {
       "output_type": "stream",
       "stream": "stdout",
       "text": [
        "\n",
        "[GridSearchCV] kernel=rbf, C=1000, gamma=0.01 ..................................\n",
        "[GridSearchCV] ......................... kernel=rbf, C=1000, gamma=0.01 -   0.4s"
       ]
      },
      {
       "output_type": "stream",
       "stream": "stdout",
       "text": [
        "\n",
        "[GridSearchCV] kernel=rbf, C=1000, gamma=0.001 .................................\n",
        "[GridSearchCV] ........................ kernel=rbf, C=1000, gamma=0.001 -   0.4s"
       ]
      },
      {
       "output_type": "stream",
       "stream": "stdout",
       "text": [
        "\n",
        "[GridSearchCV] kernel=rbf, C=1000, gamma=0.001 .................................\n",
        "[GridSearchCV] ........................ kernel=rbf, C=1000, gamma=0.001 -   0.4s"
       ]
      },
      {
       "output_type": "stream",
       "stream": "stdout",
       "text": [
        "\n",
        "[GridSearchCV] kernel=rbf, C=1000, gamma=0.001 .................................\n",
        "[GridSearchCV] ........................ kernel=rbf, C=1000, gamma=0.001 -   0.3s"
       ]
      },
      {
       "output_type": "stream",
       "stream": "stderr",
       "text": [
        "[Parallel(n_jobs=1)]: Done   1 jobs       | elapsed:    0.4s\n",
        "[Parallel(n_jobs=1)]: Done  27 out of  27 | elapsed:    8.5s finished\n"
       ]
      },
      {
       "output_type": "stream",
       "stream": "stdout",
       "text": [
        "\n"
       ]
      }
     ],
     "prompt_number": 68
    },
    {
     "cell_type": "code",
     "collapsed": false,
     "input": [
      "svm.best_estimator_"
     ],
     "language": "python",
     "metadata": {},
     "outputs": [
      {
       "output_type": "pyout",
       "prompt_number": 69,
       "text": [
        "SVR(C=100, cache_size=200, coef0=0.0, degree=3, epsilon=0.1, gamma=0.001,\n",
        "  kernel='rbf', max_iter=-1, probability=False, shrinking=True, tol=0.001,\n",
        "  verbose=False)"
       ]
      }
     ],
     "prompt_number": 69
    },
    {
     "cell_type": "code",
     "collapsed": false,
     "input": [
      "#training error\n",
      "tpred = svm.predict(X)\n",
      "\n",
      "yi = scaler.inverse_transform(np.c_[X, y])[:,-1]\n",
      "pi = scaler.inverse_transform(np.c_[X, tpred])[:,-1]\n",
      "compute_score(yi, pi)"
     ],
     "language": "python",
     "metadata": {},
     "outputs": [
      {
       "output_type": "pyout",
       "prompt_number": 70,
       "text": [
        "nan"
       ]
      }
     ],
     "prompt_number": 70
    },
    {
     "cell_type": "code",
     "collapsed": false,
     "input": [
      "# test error\n",
      "pred = svm.predict(Xt)\n",
      "\n",
      "yi = scaler.inverse_transform(np.c_[Xt, yt])[:,-1]\n",
      "pi = scaler.inverse_transform(np.c_[Xt, pred])[:,-1]\n",
      "compute_score(yi, pi)"
     ],
     "language": "python",
     "metadata": {},
     "outputs": [
      {
       "output_type": "pyout",
       "prompt_number": 71,
       "text": [
        "2.2249867570944932"
       ]
      }
     ],
     "prompt_number": 71
    },
    {
     "cell_type": "code",
     "collapsed": false,
     "input": [
      "plot( scaler.inverse_transform(np.c_[Xt, yt])[:,-1], 'bo', alpha=.7 )\n",
      "plot( scaler.inverse_transform(np.c_[Xt, pred])[:,-1], 'rx' )\n",
      "\n",
      "xlim((0, 50))\n",
      "ylim((0, 1000))\n",
      "\n",
      "grid()"
     ],
     "language": "python",
     "metadata": {},
     "outputs": [
      {
       "output_type": "display_data",
       "png": "[encoded data removed]"
      }
     ],
     "prompt_number": 72
    },
    {
     "cell_type": "heading",
     "level": 3,
     "metadata": {},
     "source": [
      "try simpler data"
     ]
    },
    {
     "cell_type": "heading",
     "level": 4,
     "metadata": {},
     "source": [
      "SVR"
     ]
    },
    {
     "cell_type": "code",
     "collapsed": false,
     "input": [
      "alldata = pd.pivot_table(tdata, rows=['Product_Launch_Id', 'Product_Category'], values=['Units_that_sold_that_week'], \n",
      "                                cols=['Weeks_Since_Launch'])"
     ],
     "language": "python",
     "metadata": {},
     "outputs": [],
     "prompt_number": 6
    },
    {
     "cell_type": "code",
     "collapsed": false,
     "input": [
      "alldata['Product_Category_Level'] = pd.Categorical.from_array(alldata.reset_index(1)['Product_Category']).labels"
     ],
     "language": "python",
     "metadata": {},
     "outputs": [],
     "prompt_number": 7
    },
    {
     "cell_type": "code",
     "collapsed": false,
     "input": [
      "target = df[df.Weeks_Since_Launch==26].set_index(['Product_Launch_Id', 'Product_Category'])['Units_that_sold_that_week']"
     ],
     "language": "python",
     "metadata": {},
     "outputs": [],
     "prompt_number": 8
    },
    {
     "cell_type": "code",
     "collapsed": false,
     "input": [
      "ntr = int(np.ceil(.8 * alldata.shape[0]))\n",
      "ntr"
     ],
     "language": "python",
     "metadata": {},
     "outputs": [
      {
       "output_type": "pyout",
       "prompt_number": 10,
       "text": [
        "2215"
       ]
      }
     ],
     "prompt_number": 10
    },
    {
     "cell_type": "code",
     "collapsed": false,
     "input": [
      "X = alldata.iloc[:ntr,:].astype(float)\n",
      "y = target[:ntr].astype(float)\n",
      "\n",
      "Xt = alldata.iloc[ntr:,:].astype(float)\n",
      "yt = target[ntr:].astype(float)"
     ],
     "language": "python",
     "metadata": {},
     "outputs": [],
     "prompt_number": 11
    },
    {
     "cell_type": "code",
     "collapsed": false,
     "input": [
      "scaler = MinMaxScaler()\n",
      "scaler.fit(np.c_[X, y])\n",
      "\n",
      "scaled = scaler.transform(np.c_[X, y])\n",
      "X = scaled[:,:-1]\n",
      "y = scaled[:,-1]\n",
      "\n",
      "t_scaled = scaler.transform(np.c_[Xt, yt])\n",
      "Xt = t_scaled[:,:-1]\n",
      "yt = t_scaled[:,-1]"
     ],
     "language": "python",
     "metadata": {},
     "outputs": [],
     "prompt_number": 12
    },
    {
     "cell_type": "code",
     "collapsed": false,
     "input": [
      "tuned_parameters = [{'kernel': ['rbf'], 'gamma': [0.1, 1e-2, 1e-3], 'C': [10, 100, 1000]}]\n",
      "\n",
      "svm = GridSearchCV( SVR(), tuned_parameters, cv=3, verbose=2 ).fit(X, y)"
     ],
     "language": "python",
     "metadata": {},
     "outputs": [
      {
       "output_type": "stream",
       "stream": "stdout",
       "text": [
        "[GridSearchCV] kernel=rbf, C=10, gamma=0.1 .....................................\n",
        "[GridSearchCV] ............................ kernel=rbf, C=10, gamma=0.1 -   0.1s"
       ]
      },
      {
       "output_type": "stream",
       "stream": "stdout",
       "text": [
        "\n",
        "[GridSearchCV] kernel=rbf, C=10, gamma=0.1 .....................................\n",
        "[GridSearchCV] ............................ kernel=rbf, C=10, gamma=0.1 -   0.1s"
       ]
      },
      {
       "output_type": "stream",
       "stream": "stdout",
       "text": [
        "\n",
        "[GridSearchCV] kernel=rbf, C=10, gamma=0.1 .....................................\n",
        "[GridSearchCV] ............................ kernel=rbf, C=10, gamma=0.1 -   0.1s"
       ]
      },
      {
       "output_type": "stream",
       "stream": "stdout",
       "text": [
        "\n",
        "[GridSearchCV] kernel=rbf, C=10, gamma=0.01 ....................................\n",
        "[GridSearchCV] ........................... kernel=rbf, C=10, gamma=0.01 -   0.0s\n",
        "[GridSearchCV] kernel=rbf, C=10, gamma=0.01 ....................................\n",
        "[GridSearchCV] ........................... kernel=rbf, C=10, gamma=0.01 -   0.0s\n",
        "[GridSearchCV] kernel=rbf, C=10, gamma=0.01 ....................................\n",
        "[GridSearchCV] ........................... kernel=rbf, C=10, gamma=0.01 -   0.0s"
       ]
      },
      {
       "output_type": "stream",
       "stream": "stdout",
       "text": [
        "\n",
        "[GridSearchCV] kernel=rbf, C=10, gamma=0.001 ...................................\n",
        "[GridSearchCV] .......................... kernel=rbf, C=10, gamma=0.001 -   0.0s\n",
        "[GridSearchCV] kernel=rbf, C=10, gamma=0.001 ...................................\n",
        "[GridSearchCV] .......................... kernel=rbf, C=10, gamma=0.001 -   0.0s\n",
        "[GridSearchCV] kernel=rbf, C=10, gamma=0.001 ...................................\n",
        "[GridSearchCV] .......................... kernel=rbf, C=10, gamma=0.001 -   0.0s\n",
        "[GridSearchCV] kernel=rbf, C=100, gamma=0.1 ....................................\n",
        "[GridSearchCV] ........................... kernel=rbf, C=100, gamma=0.1 -   0.1s"
       ]
      },
      {
       "output_type": "stream",
       "stream": "stdout",
       "text": [
        "\n",
        "[GridSearchCV] kernel=rbf, C=100, gamma=0.1 ....................................\n",
        "[GridSearchCV] ........................... kernel=rbf, C=100, gamma=0.1 -   0.2s"
       ]
      },
      {
       "output_type": "stream",
       "stream": "stdout",
       "text": [
        "\n",
        "[GridSearchCV] kernel=rbf, C=100, gamma=0.1 ....................................\n",
        "[GridSearchCV] ........................... kernel=rbf, C=100, gamma=0.1 -   0.1s"
       ]
      },
      {
       "output_type": "stream",
       "stream": "stdout",
       "text": [
        "\n",
        "[GridSearchCV] kernel=rbf, C=100, gamma=0.01 ...................................\n",
        "[GridSearchCV] .......................... kernel=rbf, C=100, gamma=0.01 -   0.1s"
       ]
      },
      {
       "output_type": "stream",
       "stream": "stdout",
       "text": [
        "\n",
        "[GridSearchCV] kernel=rbf, C=100, gamma=0.01 ...................................\n",
        "[GridSearchCV] .......................... kernel=rbf, C=100, gamma=0.01 -   0.1s"
       ]
      },
      {
       "output_type": "stream",
       "stream": "stdout",
       "text": [
        "\n",
        "[GridSearchCV] kernel=rbf, C=100, gamma=0.01 ...................................\n",
        "[GridSearchCV] .......................... kernel=rbf, C=100, gamma=0.01 -   0.1s"
       ]
      },
      {
       "output_type": "stream",
       "stream": "stdout",
       "text": [
        "\n",
        "[GridSearchCV] kernel=rbf, C=100, gamma=0.001 ..................................\n",
        "[GridSearchCV] ......................... kernel=rbf, C=100, gamma=0.001 -   0.0s\n",
        "[GridSearchCV] kernel=rbf, C=100, gamma=0.001 ..................................\n",
        "[GridSearchCV] ......................... kernel=rbf, C=100, gamma=0.001 -   0.0s\n",
        "[GridSearchCV] kernel=rbf, C=100, gamma=0.001 ..................................\n",
        "[GridSearchCV] ......................... kernel=rbf, C=100, gamma=0.001 -   0.0s"
       ]
      },
      {
       "output_type": "stream",
       "stream": "stdout",
       "text": [
        "\n",
        "[GridSearchCV] kernel=rbf, C=1000, gamma=0.1 ...................................\n",
        "[GridSearchCV] .......................... kernel=rbf, C=1000, gamma=0.1 -   0.2s"
       ]
      },
      {
       "output_type": "stream",
       "stream": "stdout",
       "text": [
        "\n",
        "[GridSearchCV] kernel=rbf, C=1000, gamma=0.1 ...................................\n",
        "[GridSearchCV] .......................... kernel=rbf, C=1000, gamma=0.1 -   0.2s"
       ]
      },
      {
       "output_type": "stream",
       "stream": "stdout",
       "text": [
        "\n",
        "[GridSearchCV] kernel=rbf, C=1000, gamma=0.1 ...................................\n",
        "[GridSearchCV] .......................... kernel=rbf, C=1000, gamma=0.1 -   0.2s"
       ]
      },
      {
       "output_type": "stream",
       "stream": "stdout",
       "text": [
        "\n",
        "[GridSearchCV] kernel=rbf, C=1000, gamma=0.01 ..................................\n",
        "[GridSearchCV] ......................... kernel=rbf, C=1000, gamma=0.01 -   0.2s"
       ]
      },
      {
       "output_type": "stream",
       "stream": "stdout",
       "text": [
        "\n",
        "[GridSearchCV] kernel=rbf, C=1000, gamma=0.01 ..................................\n",
        "[GridSearchCV] ......................... kernel=rbf, C=1000, gamma=0.01 -   0.2s"
       ]
      },
      {
       "output_type": "stream",
       "stream": "stdout",
       "text": [
        "\n",
        "[GridSearchCV] kernel=rbf, C=1000, gamma=0.01 ..................................\n",
        "[GridSearchCV] ......................... kernel=rbf, C=1000, gamma=0.01 -   0.2s"
       ]
      },
      {
       "output_type": "stream",
       "stream": "stdout",
       "text": [
        "\n",
        "[GridSearchCV] kernel=rbf, C=1000, gamma=0.001 .................................\n",
        "[GridSearchCV] ........................ kernel=rbf, C=1000, gamma=0.001 -   0.1s"
       ]
      },
      {
       "output_type": "stream",
       "stream": "stdout",
       "text": [
        "\n",
        "[GridSearchCV] kernel=rbf, C=1000, gamma=0.001 .................................\n",
        "[GridSearchCV] ........................ kernel=rbf, C=1000, gamma=0.001 -   0.1s"
       ]
      },
      {
       "output_type": "stream",
       "stream": "stdout",
       "text": [
        "\n",
        "[GridSearchCV] kernel=rbf, C=1000, gamma=0.001 .................................\n",
        "[GridSearchCV] ........................ kernel=rbf, C=1000, gamma=0.001 -   0.1s"
       ]
      },
      {
       "output_type": "stream",
       "stream": "stderr",
       "text": [
        "[Parallel(n_jobs=1)]: Done   1 jobs       | elapsed:    0.1s\n",
        "[Parallel(n_jobs=1)]: Done  27 out of  27 | elapsed:    2.4s finished\n"
       ]
      },
      {
       "output_type": "stream",
       "stream": "stdout",
       "text": [
        "\n"
       ]
      }
     ],
     "prompt_number": 13
    },
    {
     "cell_type": "code",
     "collapsed": false,
     "input": [
      "svm.best_estimator_"
     ],
     "language": "python",
     "metadata": {},
     "outputs": [
      {
       "output_type": "pyout",
       "prompt_number": 14,
       "text": [
        "SVR(C=1000, cache_size=200, coef0=0.0, degree=3, epsilon=0.1, gamma=0.001,\n",
        "  kernel='rbf', max_iter=-1, probability=False, shrinking=True, tol=0.001,\n",
        "  verbose=False)"
       ]
      }
     ],
     "prompt_number": 14
    },
    {
     "cell_type": "code",
     "collapsed": false,
     "input": [
      "#training error\n",
      "tpred = svm.predict(X)\n",
      "\n",
      "yi = scaler.inverse_transform(np.c_[X, y])[:,-1]\n",
      "pi = scaler.inverse_transform(np.c_[X, tpred])[:,-1]\n",
      "sqrt( 1./len(yi) * sum((np.log(yi + 1) - np.log(pi + 1))**2) )"
     ],
     "language": "python",
     "metadata": {},
     "outputs": [
      {
       "output_type": "pyout",
       "prompt_number": 37,
       "text": [
        "nan"
       ]
      }
     ],
     "prompt_number": 37
    },
    {
     "cell_type": "code",
     "collapsed": false,
     "input": [
      "#test error\n",
      "pred = svm.predict(Xt)\n",
      "\n",
      "yi = scaler.inverse_transform(np.c_[Xt, yt])[:,-1]\n",
      "pi = scaler.inverse_transform(np.c_[Xt, pred])[:,-1]\n",
      "sqrt( 1./len(yi) * sum((np.log(yi + 1) - np.log(pi + 1))**2) )"
     ],
     "language": "python",
     "metadata": {},
     "outputs": [
      {
       "output_type": "pyout",
       "prompt_number": 16,
       "text": [
        "2.3093290783311065"
       ]
      }
     ],
     "prompt_number": 16
    },
    {
     "cell_type": "heading",
     "level": 4,
     "metadata": {},
     "source": [
      "Random Forest"
     ]
    },
    {
     "cell_type": "code",
     "collapsed": false,
     "input": [
      "X = alldata.iloc[:ntr,:].astype(float)\n",
      "y = target[:ntr].astype(float)\n",
      "\n",
      "Xt = alldata.iloc[ntr:,:].astype(float)\n",
      "yt = target[ntr:].astype(float)"
     ],
     "language": "python",
     "metadata": {},
     "outputs": []
    },
    {
     "cell_type": "code",
     "collapsed": false,
     "input": [
      "tuned_parameters = [{'max_features': ['sqrt', 'log2'], 'n_estimators': [200, 500, 1000]}]\n",
      "\n",
      "rf = GridSearchCV( RandomForestRegressor(min_samples_split=1, compute_importances=False, n_jobs=-1), tuned_parameters, cv=3, verbose=2 ).fit(X, y)"
     ],
     "language": "python",
     "metadata": {},
     "outputs": [
      {
       "output_type": "stream",
       "stream": "stdout",
       "text": [
        "[GridSearchCV] max_features=sqrt, n_estimators=200 .............................\n"
       ]
      },
      {
       "output_type": "stream",
       "stream": "stdout",
       "text": [
        "[GridSearchCV] .................... max_features=sqrt, n_estimators=200 -  12.2s\n",
        "[GridSearchCV] max_features=sqrt, n_estimators=200 .............................\n"
       ]
      },
      {
       "output_type": "stream",
       "stream": "stderr",
       "text": [
        "[Parallel(n_jobs=1)]: Done   1 jobs       | elapsed:   12.3s\n"
       ]
      },
      {
       "output_type": "stream",
       "stream": "stdout",
       "text": [
        "[GridSearchCV] .................... max_features=sqrt, n_estimators=200 -  14.2s\n",
        "[GridSearchCV] max_features=sqrt, n_estimators=200 .............................\n"
       ]
      },
      {
       "output_type": "stream",
       "stream": "stdout",
       "text": [
        "[GridSearchCV] .................... max_features=sqrt, n_estimators=200 -  13.1s\n",
        "[GridSearchCV] max_features=sqrt, n_estimators=500 .............................\n"
       ]
      },
      {
       "output_type": "stream",
       "stream": "stdout",
       "text": [
        "[GridSearchCV] .................... max_features=sqrt, n_estimators=500 -  33.3s\n",
        "[GridSearchCV] max_features=sqrt, n_estimators=500 ............................."
       ]
      },
      {
       "output_type": "stream",
       "stream": "stdout",
       "text": [
        "\n"
       ]
      },
      {
       "output_type": "stream",
       "stream": "stdout",
       "text": [
        "[GridSearchCV] .................... max_features=sqrt, n_estimators=500 -  32.7s\n",
        "[GridSearchCV] max_features=sqrt, n_estimators=500 ............................."
       ]
      },
      {
       "output_type": "stream",
       "stream": "stdout",
       "text": [
        "\n"
       ]
      },
      {
       "output_type": "stream",
       "stream": "stdout",
       "text": [
        "[GridSearchCV] .................... max_features=sqrt, n_estimators=500 -  33.8s\n",
        "[GridSearchCV] max_features=sqrt, n_estimators=1000 ............................"
       ]
      },
      {
       "output_type": "stream",
       "stream": "stdout",
       "text": [
        "\n"
       ]
      },
      {
       "output_type": "stream",
       "stream": "stdout",
       "text": [
        "[GridSearchCV] ................... max_features=sqrt, n_estimators=1000 - 1.3min\n",
        "[GridSearchCV] max_features=sqrt, n_estimators=1000 ............................"
       ]
      },
      {
       "output_type": "stream",
       "stream": "stdout",
       "text": [
        "\n"
       ]
      },
      {
       "output_type": "stream",
       "stream": "stdout",
       "text": [
        "[GridSearchCV] ................... max_features=sqrt, n_estimators=1000 - 1.1min\n",
        "[GridSearchCV] max_features=sqrt, n_estimators=1000 ............................"
       ]
      },
      {
       "output_type": "stream",
       "stream": "stdout",
       "text": [
        "\n"
       ]
      },
      {
       "output_type": "stream",
       "stream": "stdout",
       "text": [
        "[GridSearchCV] ................... max_features=sqrt, n_estimators=1000 - 1.0min\n",
        "[GridSearchCV] max_features=log2, n_estimators=200 ............................."
       ]
      },
      {
       "output_type": "stream",
       "stream": "stdout",
       "text": [
        "\n"
       ]
      },
      {
       "output_type": "stream",
       "stream": "stdout",
       "text": [
        "[GridSearchCV] .................... max_features=log2, n_estimators=200 -  12.3s\n",
        "[GridSearchCV] max_features=log2, n_estimators=200 .............................\n"
       ]
      },
      {
       "output_type": "stream",
       "stream": "stdout",
       "text": [
        "[GridSearchCV] .................... max_features=log2, n_estimators=200 -  12.9s\n",
        "[GridSearchCV] max_features=log2, n_estimators=200 .............................\n"
       ]
      },
      {
       "output_type": "stream",
       "stream": "stdout",
       "text": [
        "[GridSearchCV] .................... max_features=log2, n_estimators=200 -  15.5s\n",
        "[GridSearchCV] max_features=log2, n_estimators=500 .............................\n"
       ]
      },
      {
       "output_type": "stream",
       "stream": "stdout",
       "text": [
        "[GridSearchCV] .................... max_features=log2, n_estimators=500 -  32.5s\n",
        "[GridSearchCV] max_features=log2, n_estimators=500 ............................."
       ]
      },
      {
       "output_type": "stream",
       "stream": "stdout",
       "text": [
        "\n"
       ]
      },
      {
       "output_type": "stream",
       "stream": "stdout",
       "text": [
        "[GridSearchCV] .................... max_features=log2, n_estimators=500 -  32.7s\n",
        "[GridSearchCV] max_features=log2, n_estimators=500 ............................."
       ]
      },
      {
       "output_type": "stream",
       "stream": "stdout",
       "text": [
        "\n"
       ]
      },
      {
       "output_type": "stream",
       "stream": "stdout",
       "text": [
        "[GridSearchCV] .................... max_features=log2, n_estimators=500 -  32.0s\n",
        "[GridSearchCV] max_features=log2, n_estimators=1000 ............................"
       ]
      },
      {
       "output_type": "stream",
       "stream": "stdout",
       "text": [
        "\n"
       ]
      },
      {
       "output_type": "stream",
       "stream": "stdout",
       "text": [
        "[GridSearchCV] ................... max_features=log2, n_estimators=1000 - 1.2min\n",
        "[GridSearchCV] max_features=log2, n_estimators=1000 ............................"
       ]
      },
      {
       "output_type": "stream",
       "stream": "stdout",
       "text": [
        "\n"
       ]
      },
      {
       "output_type": "stream",
       "stream": "stdout",
       "text": [
        "[GridSearchCV] ................... max_features=log2, n_estimators=1000 - 1.1min\n",
        "[GridSearchCV] max_features=log2, n_estimators=1000 ............................"
       ]
      },
      {
       "output_type": "stream",
       "stream": "stdout",
       "text": [
        "\n"
       ]
      },
      {
       "output_type": "stream",
       "stream": "stdout",
       "text": [
        "[GridSearchCV] ................... max_features=log2, n_estimators=1000 -  58.8s\n"
       ]
      },
      {
       "output_type": "stream",
       "stream": "stderr",
       "text": [
        "[Parallel(n_jobs=1)]: Done  18 out of  18 | elapsed: 11.3min finished\n"
       ]
      }
     ],
     "prompt_number": 187
    },
    {
     "cell_type": "code",
     "collapsed": false,
     "input": [
      "#training error\n",
      "tpred = map(int, rf.predict(X))\n",
      "sqrt( 1./len(y) * sum((y - tpred)**2) )"
     ],
     "language": "python",
     "metadata": {},
     "outputs": [
      {
       "output_type": "pyout",
       "prompt_number": 193,
       "text": [
        "286.14486299514471"
       ]
      }
     ],
     "prompt_number": 193
    },
    {
     "cell_type": "code",
     "collapsed": false,
     "input": [
      "y.values, np.array(tpred)"
     ],
     "language": "python",
     "metadata": {},
     "outputs": [
      {
       "output_type": "pyout",
       "prompt_number": 195,
       "text": [
        "(array([  27.,    4.,    5., ...,  142.,  878.,  231.]),\n",
        " array([ 21,   4,   5, ..., 507, 805, 242]))"
       ]
      }
     ],
     "prompt_number": 195
    },
    {
     "cell_type": "code",
     "collapsed": false,
     "input": [
      "# test error\n",
      "pred = rf.predict(Xt)\n",
      "sqrt( 1./len(yt) * sum((yt - pred)**2) )"
     ],
     "language": "python",
     "metadata": {},
     "outputs": [
      {
       "output_type": "pyout",
       "prompt_number": 196,
       "text": [
        "1193.2442883218639"
       ]
      }
     ],
     "prompt_number": 196
    },
    {
     "cell_type": "code",
     "collapsed": false,
     "input": [],
     "language": "python",
     "metadata": {},
     "outputs": []
    }
   ],
   "metadata": {}
  }
 ]
}