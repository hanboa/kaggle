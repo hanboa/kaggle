{
 "metadata": {
  "name": "handwritten_digit_recognition"
 },
 "nbformat": 3,
 "nbformat_minor": 0,
 "worksheets": [
  {
   "cells": [
    {
     "cell_type": "code",
     "collapsed": false,
     "input": [
      "# pandas and numpy\n",
      "# not so much of pandas but for read_csv which is more efficient than numpy.loadtxt\n",
      "import numpy as np\n",
      "import pandas as pd\n",
      "\n",
      "# scikit-learn classifiers and cross validation utils\n",
      "from sklearn.ensemble import RandomForestClassifier\n",
      "from sklearn.svm import SVC\n",
      "from sklearn.grid_search import GridSearchCV\n",
      "\n",
      "# scikit-learn dimension reduction\n",
      "from sklearn.decomposition import PCA\n",
      "\n",
      "# scikit-learn dataset processing utils\n",
      "from sklearn.preprocessing import MinMaxScaler"
     ],
     "language": "python",
     "metadata": {},
     "outputs": [],
     "prompt_number": 1
    },
    {
     "cell_type": "markdown",
     "metadata": {},
     "source": [
      "Load the training data and have a quick look"
     ]
    },
    {
     "cell_type": "code",
     "collapsed": false,
     "input": [
      "df = pd.read_csv('./data/train.csv')\n",
      "df = df.astype(float64)"
     ],
     "language": "python",
     "metadata": {},
     "outputs": [],
     "prompt_number": 2
    },
    {
     "cell_type": "code",
     "collapsed": false,
     "input": [
      "df.shape"
     ],
     "language": "python",
     "metadata": {},
     "outputs": [
      {
       "output_type": "pyout",
       "prompt_number": 3,
       "text": [
        "(42000, 785)"
       ]
      }
     ],
     "prompt_number": 3
    },
    {
     "cell_type": "code",
     "collapsed": false,
     "input": [
      "df.ix[1000:1010,200:215]"
     ],
     "language": "python",
     "metadata": {},
     "outputs": [
      {
       "html": [
        "<div style=\"max-height:1000px;max-width:1500px;overflow:auto;\">\n",
        "<table border=\"1\" class=\"dataframe\">\n",
        "  <thead>\n",
        "    <tr style=\"text-align: right;\">\n",
        "      <th></th>\n",
        "      <th>pixel199</th>\n",
        "      <th>pixel200</th>\n",
        "      <th>pixel201</th>\n",
        "      <th>pixel202</th>\n",
        "      <th>pixel203</th>\n",
        "      <th>pixel204</th>\n",
        "      <th>pixel205</th>\n",
        "      <th>pixel206</th>\n",
        "      <th>pixel207</th>\n",
        "      <th>pixel208</th>\n",
        "      <th>pixel209</th>\n",
        "      <th>pixel210</th>\n",
        "      <th>pixel211</th>\n",
        "      <th>pixel212</th>\n",
        "      <th>pixel213</th>\n",
        "    </tr>\n",
        "  </thead>\n",
        "  <tbody>\n",
        "    <tr>\n",
        "      <th>1000</th>\n",
        "      <td> 0</td>\n",
        "      <td> 0</td>\n",
        "      <td> 0</td>\n",
        "      <td>  0</td>\n",
        "      <td>   0</td>\n",
        "      <td>   0</td>\n",
        "      <td>   0</td>\n",
        "      <td>   0</td>\n",
        "      <td>   0</td>\n",
        "      <td>   0</td>\n",
        "      <td> 211</td>\n",
        "      <td> 239</td>\n",
        "      <td>  42</td>\n",
        "      <td>   0</td>\n",
        "      <td>   0</td>\n",
        "    </tr>\n",
        "    <tr>\n",
        "      <th>1001</th>\n",
        "      <td> 0</td>\n",
        "      <td> 0</td>\n",
        "      <td> 0</td>\n",
        "      <td>  0</td>\n",
        "      <td>   0</td>\n",
        "      <td>   0</td>\n",
        "      <td>   0</td>\n",
        "      <td>   0</td>\n",
        "      <td>   0</td>\n",
        "      <td>   0</td>\n",
        "      <td>   0</td>\n",
        "      <td>   0</td>\n",
        "      <td>   0</td>\n",
        "      <td>   0</td>\n",
        "      <td>   0</td>\n",
        "    </tr>\n",
        "    <tr>\n",
        "      <th>1002</th>\n",
        "      <td> 0</td>\n",
        "      <td> 0</td>\n",
        "      <td> 0</td>\n",
        "      <td>  0</td>\n",
        "      <td>   0</td>\n",
        "      <td>   0</td>\n",
        "      <td>   0</td>\n",
        "      <td>   0</td>\n",
        "      <td>   0</td>\n",
        "      <td>   0</td>\n",
        "      <td>  51</td>\n",
        "      <td> 254</td>\n",
        "      <td> 254</td>\n",
        "      <td> 139</td>\n",
        "      <td>   0</td>\n",
        "    </tr>\n",
        "    <tr>\n",
        "      <th>1003</th>\n",
        "      <td> 0</td>\n",
        "      <td> 0</td>\n",
        "      <td> 0</td>\n",
        "      <td>  0</td>\n",
        "      <td>   0</td>\n",
        "      <td>   0</td>\n",
        "      <td>   0</td>\n",
        "      <td> 224</td>\n",
        "      <td> 253</td>\n",
        "      <td> 222</td>\n",
        "      <td>  72</td>\n",
        "      <td>   0</td>\n",
        "      <td>   0</td>\n",
        "      <td>   0</td>\n",
        "      <td>   0</td>\n",
        "    </tr>\n",
        "    <tr>\n",
        "      <th>1004</th>\n",
        "      <td> 0</td>\n",
        "      <td> 0</td>\n",
        "      <td> 0</td>\n",
        "      <td>  0</td>\n",
        "      <td>   0</td>\n",
        "      <td>   0</td>\n",
        "      <td>   0</td>\n",
        "      <td>   0</td>\n",
        "      <td>   2</td>\n",
        "      <td> 132</td>\n",
        "      <td> 254</td>\n",
        "      <td> 215</td>\n",
        "      <td>  55</td>\n",
        "      <td>   0</td>\n",
        "      <td>   0</td>\n",
        "    </tr>\n",
        "    <tr>\n",
        "      <th>1005</th>\n",
        "      <td> 0</td>\n",
        "      <td> 0</td>\n",
        "      <td> 0</td>\n",
        "      <td> 46</td>\n",
        "      <td> 221</td>\n",
        "      <td> 253</td>\n",
        "      <td> 253</td>\n",
        "      <td> 253</td>\n",
        "      <td> 183</td>\n",
        "      <td> 253</td>\n",
        "      <td> 253</td>\n",
        "      <td> 253</td>\n",
        "      <td> 253</td>\n",
        "      <td> 228</td>\n",
        "      <td>   0</td>\n",
        "    </tr>\n",
        "    <tr>\n",
        "      <th>1006</th>\n",
        "      <td> 0</td>\n",
        "      <td> 0</td>\n",
        "      <td> 0</td>\n",
        "      <td>  0</td>\n",
        "      <td>   0</td>\n",
        "      <td>   0</td>\n",
        "      <td>   0</td>\n",
        "      <td>   0</td>\n",
        "      <td>  12</td>\n",
        "      <td> 171</td>\n",
        "      <td> 252</td>\n",
        "      <td> 253</td>\n",
        "      <td> 252</td>\n",
        "      <td> 252</td>\n",
        "      <td> 230</td>\n",
        "    </tr>\n",
        "    <tr>\n",
        "      <th>1007</th>\n",
        "      <td> 0</td>\n",
        "      <td> 0</td>\n",
        "      <td> 0</td>\n",
        "      <td>  0</td>\n",
        "      <td>   0</td>\n",
        "      <td>   0</td>\n",
        "      <td>   0</td>\n",
        "      <td>   0</td>\n",
        "      <td>   0</td>\n",
        "      <td>   0</td>\n",
        "      <td>   0</td>\n",
        "      <td>   0</td>\n",
        "      <td>   0</td>\n",
        "      <td>  34</td>\n",
        "      <td>  82</td>\n",
        "    </tr>\n",
        "    <tr>\n",
        "      <th>1008</th>\n",
        "      <td> 0</td>\n",
        "      <td> 0</td>\n",
        "      <td> 0</td>\n",
        "      <td>  0</td>\n",
        "      <td>   0</td>\n",
        "      <td>   0</td>\n",
        "      <td>   0</td>\n",
        "      <td>   0</td>\n",
        "      <td>   0</td>\n",
        "      <td>   0</td>\n",
        "      <td>  10</td>\n",
        "      <td>  29</td>\n",
        "      <td>  41</td>\n",
        "      <td> 141</td>\n",
        "      <td> 141</td>\n",
        "    </tr>\n",
        "    <tr>\n",
        "      <th>1009</th>\n",
        "      <td> 0</td>\n",
        "      <td> 0</td>\n",
        "      <td> 0</td>\n",
        "      <td>  0</td>\n",
        "      <td>   0</td>\n",
        "      <td>   0</td>\n",
        "      <td> 241</td>\n",
        "      <td> 252</td>\n",
        "      <td> 106</td>\n",
        "      <td>   0</td>\n",
        "      <td>   0</td>\n",
        "      <td>   0</td>\n",
        "      <td>   0</td>\n",
        "      <td>   0</td>\n",
        "      <td> 253</td>\n",
        "    </tr>\n",
        "    <tr>\n",
        "      <th>1010</th>\n",
        "      <td> 0</td>\n",
        "      <td> 0</td>\n",
        "      <td> 0</td>\n",
        "      <td>  0</td>\n",
        "      <td>   0</td>\n",
        "      <td>   0</td>\n",
        "      <td>   0</td>\n",
        "      <td>   0</td>\n",
        "      <td>   0</td>\n",
        "      <td>   0</td>\n",
        "      <td>   0</td>\n",
        "      <td>   0</td>\n",
        "      <td>   0</td>\n",
        "      <td>  57</td>\n",
        "      <td> 250</td>\n",
        "    </tr>\n",
        "  </tbody>\n",
        "</table>\n",
        "</div>"
       ],
       "output_type": "pyout",
       "prompt_number": 4,
       "text": [
        "      pixel199  pixel200  pixel201  pixel202  pixel203  pixel204  pixel205  pixel206  \\\n",
        "1000         0         0         0         0         0         0         0         0   \n",
        "1001         0         0         0         0         0         0         0         0   \n",
        "1002         0         0         0         0         0         0         0         0   \n",
        "1003         0         0         0         0         0         0         0       224   \n",
        "1004         0         0         0         0         0         0         0         0   \n",
        "1005         0         0         0        46       221       253       253       253   \n",
        "1006         0         0         0         0         0         0         0         0   \n",
        "1007         0         0         0         0         0         0         0         0   \n",
        "1008         0         0         0         0         0         0         0         0   \n",
        "1009         0         0         0         0         0         0       241       252   \n",
        "1010         0         0         0         0         0         0         0         0   \n",
        "\n",
        "      pixel207  pixel208  pixel209  pixel210  pixel211  pixel212  pixel213  \n",
        "1000         0         0       211       239        42         0         0  \n",
        "1001         0         0         0         0         0         0         0  \n",
        "1002         0         0        51       254       254       139         0  \n",
        "1003       253       222        72         0         0         0         0  \n",
        "1004         2       132       254       215        55         0         0  \n",
        "1005       183       253       253       253       253       228         0  \n",
        "1006        12       171       252       253       252       252       230  \n",
        "1007         0         0         0         0         0        34        82  \n",
        "1008         0         0        10        29        41       141       141  \n",
        "1009       106         0         0         0         0         0       253  \n",
        "1010         0         0         0         0         0        57       250  "
       ]
      }
     ],
     "prompt_number": 4
    },
    {
     "cell_type": "code",
     "collapsed": false,
     "input": [
      "f, (ax1, ax2, ax3, ax4) = subplots(ncols=4)\n",
      "\n",
      "imsize = (28, 28)\n",
      "ax1.matshow(np.reshape(df.ix[35023,1:], imsize), cmap='gray_r')\n",
      "ax2.matshow(np.reshape(df.ix[1008,1:], imsize), cmap='gray_r')\n",
      "ax3.matshow(np.reshape(df.ix[1009,1:], imsize), cmap='gray_r')\n",
      "ax4.matshow(np.reshape(df.ix[1012,1:], imsize), cmap='gray_r')\n",
      "\n",
      "f.tight_layout();"
     ],
     "language": "python",
     "metadata": {},
     "outputs": [
      {
       "output_type": "display_data",
       "png": "[encoded data removed]"
      }
     ],
     "prompt_number": 196
    },
    {
     "cell_type": "heading",
     "level": 3,
     "metadata": {},
     "source": [
      "SVM"
     ]
    },
    {
     "cell_type": "markdown",
     "metadata": {},
     "source": [
      "Create scaler and PCA objects"
     ]
    },
    {
     "cell_type": "code",
     "collapsed": false,
     "input": [
      "min_max_scaler = MinMaxScaler()\n",
      "pca = PCA(n_components=80)"
     ],
     "language": "python",
     "metadata": {},
     "outputs": [],
     "prompt_number": 3
    },
    {
     "cell_type": "markdown",
     "metadata": {},
     "source": [
      "Subset data for training, scale and apply PCA"
     ]
    },
    {
     "cell_type": "code",
     "collapsed": false,
     "input": [
      "X = min_max_scaler.fit_transform(df.ix[:9999,1:])\n",
      "X = pca.fit_transform(X)\n",
      "\n",
      "y = df.ix[:9999,0]"
     ],
     "language": "python",
     "metadata": {},
     "outputs": [],
     "prompt_number": 4
    },
    {
     "cell_type": "code",
     "collapsed": false,
     "input": [
      "tuned_parameters = [{'kernel' : ['rbf'], 'gamma': [0.1, 1e-2, 1e-3], 'C': [10, 100, 1000]}, \n",
      "                    {'kernel' : ['poly'], 'degree' : [5, 9], 'C' : [1, 10]}]\n",
      "\n",
      "svm = GridSearchCV( SVC(), tuned_parameters, cv=3, verbose=2 ).fit(X, y)"
     ],
     "language": "python",
     "metadata": {},
     "outputs": [
      {
       "output_type": "stream",
       "stream": "stdout",
       "text": [
        "[GridSearchCV] kernel=rbf, C=10, gamma=0.1 .....................................\n",
        "[GridSearchCV] ............................ kernel=rbf, C=10, gamma=0.1 -  30.4s"
       ]
      },
      {
       "output_type": "stream",
       "stream": "stdout",
       "text": [
        "\n",
        "[GridSearchCV] kernel=rbf, C=10, gamma=0.1 .....................................\n",
        "[GridSearchCV] ............................ kernel=rbf, C=10, gamma=0.1 -  27.8s"
       ]
      },
      {
       "output_type": "stream",
       "stream": "stdout",
       "text": [
        "\n",
        "[GridSearchCV] kernel=rbf, C=10, gamma=0.1 .....................................\n",
        "[GridSearchCV] ............................ kernel=rbf, C=10, gamma=0.1 -  40.9s"
       ]
      },
      {
       "output_type": "stream",
       "stream": "stdout",
       "text": [
        "\n",
        "[GridSearchCV] kernel=rbf, C=10, gamma=0.01 ....................................\n",
        "[GridSearchCV] ........................... kernel=rbf, C=10, gamma=0.01 -   9.7s"
       ]
      },
      {
       "output_type": "stream",
       "stream": "stdout",
       "text": [
        "\n",
        "[GridSearchCV] kernel=rbf, C=10, gamma=0.01 ....................................\n",
        "[GridSearchCV] ........................... kernel=rbf, C=10, gamma=0.01 -   6.7s"
       ]
      },
      {
       "output_type": "stream",
       "stream": "stdout",
       "text": [
        "\n",
        "[GridSearchCV] kernel=rbf, C=10, gamma=0.01 ....................................\n",
        "[GridSearchCV] ........................... kernel=rbf, C=10, gamma=0.01 -   7.7s"
       ]
      },
      {
       "output_type": "stream",
       "stream": "stdout",
       "text": [
        "\n",
        "[GridSearchCV] kernel=rbf, C=10, gamma=0.001 ...................................\n",
        "[GridSearchCV] .......................... kernel=rbf, C=10, gamma=0.001 -   5.7s"
       ]
      },
      {
       "output_type": "stream",
       "stream": "stdout",
       "text": [
        "\n",
        "[GridSearchCV] kernel=rbf, C=10, gamma=0.001 ...................................\n",
        "[GridSearchCV] .......................... kernel=rbf, C=10, gamma=0.001 -   5.4s"
       ]
      },
      {
       "output_type": "stream",
       "stream": "stdout",
       "text": [
        "\n",
        "[GridSearchCV] kernel=rbf, C=10, gamma=0.001 ...................................\n",
        "[GridSearchCV] .......................... kernel=rbf, C=10, gamma=0.001 -   5.2s"
       ]
      },
      {
       "output_type": "stream",
       "stream": "stdout",
       "text": [
        "\n",
        "[GridSearchCV] kernel=rbf, C=100, gamma=0.1 ....................................\n",
        "[GridSearchCV] ........................... kernel=rbf, C=100, gamma=0.1 -  26.9s"
       ]
      },
      {
       "output_type": "stream",
       "stream": "stdout",
       "text": [
        "\n",
        "[GridSearchCV] kernel=rbf, C=100, gamma=0.1 ....................................\n",
        "[GridSearchCV] ........................... kernel=rbf, C=100, gamma=0.1 -  26.9s"
       ]
      },
      {
       "output_type": "stream",
       "stream": "stdout",
       "text": [
        "\n",
        "[GridSearchCV] kernel=rbf, C=100, gamma=0.1 ....................................\n",
        "[GridSearchCV] ........................... kernel=rbf, C=100, gamma=0.1 -  26.9s"
       ]
      },
      {
       "output_type": "stream",
       "stream": "stdout",
       "text": [
        "\n",
        "[GridSearchCV] kernel=rbf, C=100, gamma=0.01 ...................................\n",
        "[GridSearchCV] .......................... kernel=rbf, C=100, gamma=0.01 -   5.0s"
       ]
      },
      {
       "output_type": "stream",
       "stream": "stdout",
       "text": [
        "\n",
        "[GridSearchCV] kernel=rbf, C=100, gamma=0.01 ...................................\n",
        "[GridSearchCV] .......................... kernel=rbf, C=100, gamma=0.01 -   5.2s"
       ]
      },
      {
       "output_type": "stream",
       "stream": "stdout",
       "text": [
        "\n",
        "[GridSearchCV] kernel=rbf, C=100, gamma=0.01 ...................................\n",
        "[GridSearchCV] .......................... kernel=rbf, C=100, gamma=0.01 -   5.4s"
       ]
      },
      {
       "output_type": "stream",
       "stream": "stdout",
       "text": [
        "\n",
        "[GridSearchCV] kernel=rbf, C=100, gamma=0.001 ..................................\n",
        "[GridSearchCV] ......................... kernel=rbf, C=100, gamma=0.001 -   4.3s"
       ]
      },
      {
       "output_type": "stream",
       "stream": "stdout",
       "text": [
        "\n",
        "[GridSearchCV] kernel=rbf, C=100, gamma=0.001 ..................................\n",
        "[GridSearchCV] ......................... kernel=rbf, C=100, gamma=0.001 -   4.4s"
       ]
      },
      {
       "output_type": "stream",
       "stream": "stdout",
       "text": [
        "\n",
        "[GridSearchCV] kernel=rbf, C=100, gamma=0.001 ..................................\n",
        "[GridSearchCV] ......................... kernel=rbf, C=100, gamma=0.001 -   4.4s"
       ]
      },
      {
       "output_type": "stream",
       "stream": "stdout",
       "text": [
        "\n",
        "[GridSearchCV] kernel=rbf, C=1000, gamma=0.1 ...................................\n",
        "[GridSearchCV] .......................... kernel=rbf, C=1000, gamma=0.1 -  27.8s"
       ]
      },
      {
       "output_type": "stream",
       "stream": "stdout",
       "text": [
        "\n",
        "[GridSearchCV] kernel=rbf, C=1000, gamma=0.1 ...................................\n",
        "[GridSearchCV] .......................... kernel=rbf, C=1000, gamma=0.1 -  26.8s"
       ]
      },
      {
       "output_type": "stream",
       "stream": "stdout",
       "text": [
        "\n",
        "[GridSearchCV] kernel=rbf, C=1000, gamma=0.1 ...................................\n",
        "[GridSearchCV] .......................... kernel=rbf, C=1000, gamma=0.1 -  27.0s"
       ]
      },
      {
       "output_type": "stream",
       "stream": "stdout",
       "text": [
        "\n",
        "[GridSearchCV] kernel=rbf, C=1000, gamma=0.01 ..................................\n",
        "[GridSearchCV] ......................... kernel=rbf, C=1000, gamma=0.01 -   5.0s"
       ]
      },
      {
       "output_type": "stream",
       "stream": "stdout",
       "text": [
        "\n",
        "[GridSearchCV] kernel=rbf, C=1000, gamma=0.01 ..................................\n",
        "[GridSearchCV] ......................... kernel=rbf, C=1000, gamma=0.01 -   5.1s"
       ]
      },
      {
       "output_type": "stream",
       "stream": "stdout",
       "text": [
        "\n",
        "[GridSearchCV] kernel=rbf, C=1000, gamma=0.01 ..................................\n",
        "[GridSearchCV] ......................... kernel=rbf, C=1000, gamma=0.01 -   5.0s"
       ]
      },
      {
       "output_type": "stream",
       "stream": "stdout",
       "text": [
        "\n",
        "[GridSearchCV] kernel=rbf, C=1000, gamma=0.001 .................................\n",
        "[GridSearchCV] ........................ kernel=rbf, C=1000, gamma=0.001 -   4.6s"
       ]
      },
      {
       "output_type": "stream",
       "stream": "stdout",
       "text": [
        "\n",
        "[GridSearchCV] kernel=rbf, C=1000, gamma=0.001 .................................\n",
        "[GridSearchCV] ........................ kernel=rbf, C=1000, gamma=0.001 -   4.7s"
       ]
      },
      {
       "output_type": "stream",
       "stream": "stdout",
       "text": [
        "\n",
        "[GridSearchCV] kernel=rbf, C=1000, gamma=0.001 .................................\n",
        "[GridSearchCV] ........................ kernel=rbf, C=1000, gamma=0.001 -   4.6s"
       ]
      },
      {
       "output_type": "stream",
       "stream": "stdout",
       "text": [
        "\n",
        "[GridSearchCV] kernel=poly, C=1, degree=5 ......................................\n",
        "[GridSearchCV] ............................. kernel=poly, C=1, degree=5 -  21.9s"
       ]
      },
      {
       "output_type": "stream",
       "stream": "stdout",
       "text": [
        "\n",
        "[GridSearchCV] kernel=poly, C=1, degree=5 ......................................\n",
        "[GridSearchCV] ............................. kernel=poly, C=1, degree=5 -  22.4s"
       ]
      },
      {
       "output_type": "stream",
       "stream": "stdout",
       "text": [
        "\n",
        "[GridSearchCV] kernel=poly, C=1, degree=5 ......................................\n",
        "[GridSearchCV] ............................. kernel=poly, C=1, degree=5 -  23.6s"
       ]
      },
      {
       "output_type": "stream",
       "stream": "stdout",
       "text": [
        "\n",
        "[GridSearchCV] kernel=poly, C=1, degree=9 ......................................\n",
        "[GridSearchCV] ............................. kernel=poly, C=1, degree=9 -  31.7s"
       ]
      },
      {
       "output_type": "stream",
       "stream": "stdout",
       "text": [
        "\n",
        "[GridSearchCV] kernel=poly, C=1, degree=9 ......................................\n",
        "[GridSearchCV] ............................. kernel=poly, C=1, degree=9 -  30.5s"
       ]
      },
      {
       "output_type": "stream",
       "stream": "stdout",
       "text": [
        "\n",
        "[GridSearchCV] kernel=poly, C=1, degree=9 ......................................\n",
        "[GridSearchCV] ............................. kernel=poly, C=1, degree=9 -  31.2s"
       ]
      },
      {
       "output_type": "stream",
       "stream": "stdout",
       "text": [
        "\n",
        "[GridSearchCV] kernel=poly, C=10, degree=5 .....................................\n",
        "[GridSearchCV] ............................ kernel=poly, C=10, degree=5 -  16.9s"
       ]
      },
      {
       "output_type": "stream",
       "stream": "stdout",
       "text": [
        "\n",
        "[GridSearchCV] kernel=poly, C=10, degree=5 .....................................\n",
        "[GridSearchCV] ............................ kernel=poly, C=10, degree=5 -  20.4s"
       ]
      },
      {
       "output_type": "stream",
       "stream": "stdout",
       "text": [
        "\n",
        "[GridSearchCV] kernel=poly, C=10, degree=5 .....................................\n",
        "[GridSearchCV] ............................ kernel=poly, C=10, degree=5 -  19.0s"
       ]
      },
      {
       "output_type": "stream",
       "stream": "stdout",
       "text": [
        "\n",
        "[GridSearchCV] kernel=poly, C=10, degree=9 .....................................\n",
        "[GridSearchCV] ............................ kernel=poly, C=10, degree=9 -  27.5s"
       ]
      },
      {
       "output_type": "stream",
       "stream": "stdout",
       "text": [
        "\n",
        "[GridSearchCV] kernel=poly, C=10, degree=9 .....................................\n",
        "[GridSearchCV] ............................ kernel=poly, C=10, degree=9 -  25.6s"
       ]
      },
      {
       "output_type": "stream",
       "stream": "stdout",
       "text": [
        "\n",
        "[GridSearchCV] kernel=poly, C=10, degree=9 .....................................\n",
        "[GridSearchCV] ............................ kernel=poly, C=10, degree=9 -  25.0s"
       ]
      },
      {
       "output_type": "stream",
       "stream": "stderr",
       "text": [
        "[Parallel(n_jobs=1)]: Done   1 jobs       | elapsed:   30.4s\n",
        "[Parallel(n_jobs=1)]: Done  39 out of  39 | elapsed: 10.9min finished\n"
       ]
      },
      {
       "output_type": "stream",
       "stream": "stdout",
       "text": [
        "\n"
       ]
      }
     ],
     "prompt_number": 7
    },
    {
     "cell_type": "code",
     "collapsed": false,
     "input": [
      "svm.best_estimator_"
     ],
     "language": "python",
     "metadata": {},
     "outputs": [
      {
       "output_type": "pyout",
       "prompt_number": 8,
       "text": [
        "SVC(C=10, cache_size=200, class_weight=None, coef0=0.0, degree=3, gamma=0.01,\n",
        "  kernel='rbf', max_iter=-1, probability=False, shrinking=True, tol=0.001,\n",
        "  verbose=False)"
       ]
      }
     ],
     "prompt_number": 8
    },
    {
     "cell_type": "markdown",
     "metadata": {},
     "source": [
      "Test it to some subset of the data not included in the training"
     ]
    },
    {
     "cell_type": "code",
     "collapsed": false,
     "input": [
      "Xt = min_max_scaler.transform(df.ix[35000:,1:])\n",
      "yt = df.ix[35000:,0]\n",
      "\n",
      "yp = svm.predict(pca.transform(Xt))"
     ],
     "language": "python",
     "metadata": {},
     "outputs": [],
     "prompt_number": 9
    },
    {
     "cell_type": "code",
     "collapsed": false,
     "input": [
      "print 'prediction accuracy: %.4f' % (1./len(yt) * sum( yp == yt ))"
     ],
     "language": "python",
     "metadata": {},
     "outputs": [
      {
       "output_type": "stream",
       "stream": "stdout",
       "text": [
        "prediction accuracy: 0.9683\n"
       ]
      }
     ],
     "prompt_number": 10
    },
    {
     "cell_type": "code",
     "collapsed": false,
     "input": [
      "print yp[:30].astype(int)"
     ],
     "language": "python",
     "metadata": {},
     "outputs": [
      {
       "output_type": "stream",
       "stream": "stdout",
       "text": [
        "[2 2 5 4 7 6 0 6 9 5 4 8 5 2 6 2 3 9 3 9 4 0 4 5 2 0 6 5 5 0]\n"
       ]
      }
     ],
     "prompt_number": 11
    },
    {
     "cell_type": "code",
     "collapsed": false,
     "input": [
      "print yt[:30].values.astype(int)"
     ],
     "language": "python",
     "metadata": {},
     "outputs": [
      {
       "output_type": "stream",
       "stream": "stdout",
       "text": [
        "[2 2 5 4 7 6 0 6 4 5 4 8 5 2 6 2 3 9 3 9 4 0 4 5 2 0 6 5 5 0]\n"
       ]
      }
     ],
     "prompt_number": 12
    },
    {
     "cell_type": "heading",
     "level": 3,
     "metadata": {},
     "source": [
      "RandomForest"
     ]
    },
    {
     "cell_type": "code",
     "collapsed": false,
     "input": [
      "min_max_scaler = MinMaxScaler()\n",
      "pca = PCA(n_components=80)"
     ],
     "language": "python",
     "metadata": {},
     "outputs": [],
     "prompt_number": 175
    },
    {
     "cell_type": "code",
     "collapsed": false,
     "input": [
      "X = min_max_scaler.fit_transform(df.ix[:9999,1:])\n",
      "X = pca.fit_transform(X)\n",
      "\n",
      "y = df.ix[:9999,0]"
     ],
     "language": "python",
     "metadata": {},
     "outputs": [],
     "prompt_number": 176
    },
    {
     "cell_type": "code",
     "collapsed": false,
     "input": [
      "tuned_parameters = [{'max_features': ['sqrt', 'log2'], 'n_estimators': [1000, 1500]}]\n",
      "\n",
      "rf = GridSearchCV( RandomForestClassifier(min_samples_split=1, compute_importances=False, n_jobs=-1), tuned_parameters, cv=3, verbose=2 ).fit(X, y)"
     ],
     "language": "python",
     "metadata": {},
     "outputs": [
      {
       "output_type": "stream",
       "stream": "stdout",
       "text": [
        "[GridSearchCV] max_features=sqrt, n_estimators=1000 ............................\n"
       ]
      },
      {
       "output_type": "stream",
       "stream": "stdout",
       "text": [
        "[GridSearchCV] ................... max_features=sqrt, n_estimators=1000 - 3.6min\n",
        "[GridSearchCV] max_features=sqrt, n_estimators=1000 ............................"
       ]
      },
      {
       "output_type": "stream",
       "stream": "stdout",
       "text": [
        "\n"
       ]
      },
      {
       "output_type": "stream",
       "stream": "stderr",
       "text": [
        "[Parallel(n_jobs=1)]: Done   1 jobs       | elapsed:  3.6min\n"
       ]
      },
      {
       "output_type": "stream",
       "stream": "stdout",
       "text": [
        "[GridSearchCV] ................... max_features=sqrt, n_estimators=1000 - 3.6min\n",
        "[GridSearchCV] max_features=sqrt, n_estimators=1000 ............................"
       ]
      },
      {
       "output_type": "stream",
       "stream": "stdout",
       "text": [
        "\n"
       ]
      },
      {
       "output_type": "stream",
       "stream": "stdout",
       "text": [
        "[GridSearchCV] ................... max_features=sqrt, n_estimators=1000 - 3.4min\n",
        "[GridSearchCV] max_features=sqrt, n_estimators=1500 ............................"
       ]
      },
      {
       "output_type": "stream",
       "stream": "stdout",
       "text": [
        "\n"
       ]
      },
      {
       "output_type": "stream",
       "stream": "stdout",
       "text": [
        "[GridSearchCV] ................... max_features=sqrt, n_estimators=1500 - 5.0min\n",
        "[GridSearchCV] max_features=sqrt, n_estimators=1500 ............................"
       ]
      },
      {
       "output_type": "stream",
       "stream": "stdout",
       "text": [
        "\n"
       ]
      },
      {
       "output_type": "stream",
       "stream": "stdout",
       "text": [
        "[GridSearchCV] ................... max_features=sqrt, n_estimators=1500 - 5.0min\n",
        "[GridSearchCV] max_features=sqrt, n_estimators=1500 ............................"
       ]
      },
      {
       "output_type": "stream",
       "stream": "stdout",
       "text": [
        "\n"
       ]
      },
      {
       "output_type": "stream",
       "stream": "stdout",
       "text": [
        "[GridSearchCV] ................... max_features=sqrt, n_estimators=1500 - 5.0min\n",
        "[GridSearchCV] max_features=log2, n_estimators=1000 ............................"
       ]
      },
      {
       "output_type": "stream",
       "stream": "stdout",
       "text": [
        "\n"
       ]
      },
      {
       "output_type": "stream",
       "stream": "stdout",
       "text": [
        "[GridSearchCV] ................... max_features=log2, n_estimators=1000 - 4.0min\n",
        "[GridSearchCV] max_features=log2, n_estimators=1000 ............................"
       ]
      },
      {
       "output_type": "stream",
       "stream": "stdout",
       "text": [
        "\n"
       ]
      },
      {
       "output_type": "stream",
       "stream": "stdout",
       "text": [
        "[GridSearchCV] ................... max_features=log2, n_estimators=1000 - 3.5min\n",
        "[GridSearchCV] max_features=log2, n_estimators=1000 ............................"
       ]
      },
      {
       "output_type": "stream",
       "stream": "stdout",
       "text": [
        "\n"
       ]
      },
      {
       "output_type": "stream",
       "stream": "stdout",
       "text": [
        "[GridSearchCV] ................... max_features=log2, n_estimators=1000 - 3.3min\n",
        "[GridSearchCV] max_features=log2, n_estimators=1500 ............................"
       ]
      },
      {
       "output_type": "stream",
       "stream": "stdout",
       "text": [
        "\n"
       ]
      },
      {
       "output_type": "stream",
       "stream": "stdout",
       "text": [
        "[GridSearchCV] ................... max_features=log2, n_estimators=1500 - 4.9min\n",
        "[GridSearchCV] max_features=log2, n_estimators=1500 ............................"
       ]
      },
      {
       "output_type": "stream",
       "stream": "stdout",
       "text": [
        "\n"
       ]
      },
      {
       "output_type": "stream",
       "stream": "stdout",
       "text": [
        "[GridSearchCV] ................... max_features=log2, n_estimators=1500 - 5.2min\n",
        "[GridSearchCV] max_features=log2, n_estimators=1500 ............................"
       ]
      },
      {
       "output_type": "stream",
       "stream": "stdout",
       "text": [
        "\n"
       ]
      },
      {
       "output_type": "stream",
       "stream": "stdout",
       "text": [
        "[GridSearchCV] ................... max_features=log2, n_estimators=1500 - 5.3min\n"
       ]
      },
      {
       "output_type": "stream",
       "stream": "stderr",
       "text": [
        "[Parallel(n_jobs=1)]: Done  12 out of  12 | elapsed: 51.8min finished\n"
       ]
      }
     ],
     "prompt_number": 172
    },
    {
     "cell_type": "code",
     "collapsed": false,
     "input": [
      "Xt = min_max_scaler.transform(df.ix[35000:,1:])\n",
      "yt = df.ix[35000:,0]\n",
      "\n",
      "yp = rf.predict(pca.transform(Xt))"
     ],
     "language": "python",
     "metadata": {},
     "outputs": [],
     "prompt_number": 177
    },
    {
     "cell_type": "code",
     "collapsed": false,
     "input": [
      "print 'prediction accuracy: %.4f' % (1./len(yt) * sum( yp == yt ))"
     ],
     "language": "python",
     "metadata": {},
     "outputs": [
      {
       "output_type": "stream",
       "stream": "stdout",
       "text": [
        "prediction accuracy: 0.9407\n"
       ]
      }
     ],
     "prompt_number": 180
    },
    {
     "cell_type": "code",
     "collapsed": false,
     "input": [
      "print yp[:30].astype(int)"
     ],
     "language": "python",
     "metadata": {},
     "outputs": [
      {
       "output_type": "stream",
       "stream": "stdout",
       "text": [
        "[2 2 5 4 7 6 6 6 7 5 4 8 5 2 6 2 3 9 3 9 4 0 4 8 2 0 6 5 5 0]\n"
       ]
      }
     ],
     "prompt_number": 186
    },
    {
     "cell_type": "code",
     "collapsed": false,
     "input": [
      "print yt[:30].values.astype(int)"
     ],
     "language": "python",
     "metadata": {},
     "outputs": [
      {
       "output_type": "stream",
       "stream": "stdout",
       "text": [
        "[2 2 5 4 7 6 0 6 4 5 4 8 5 2 6 2 3 9 3 9 4 0 4 5 2 0 6 5 5 0]\n"
       ]
      }
     ],
     "prompt_number": 187
    },
    {
     "cell_type": "heading",
     "level": 3,
     "metadata": {},
     "source": [
      "Ensemble of SVMs"
     ]
    },
    {
     "cell_type": "code",
     "collapsed": false,
     "input": [
      "scalers = []\n",
      "pca_xfrms = []\n",
      "clfs = []\n",
      "\n",
      "# compute indexes where to split the data\n",
      "ixs = np.arange(df.shape[0])\n",
      "splits = np.split(ixs, [11000, 22000, 35000])\n",
      "\n",
      "tuned_parameters = [{'gamma': [0.1, 1e-2, 1e-3], 'C': [10, 100, 1000]}]\n",
      "\n",
      "# first 7 groups are training, the last is for testing\n",
      "for s in splits[:-1]:\n",
      "    min_max_scaler = MinMaxScaler()\n",
      "    pca = PCA(n_components=80)\n",
      "\n",
      "    # get training subset\n",
      "    X = df.ix[s,1:].copy()\n",
      "    y = df.ix[s,0].copy()\n",
      "    \n",
      "    # all the transformations\n",
      "    X = min_max_scaler.fit_transform(X)\n",
      "    X = pca.fit_transform(X)\n",
      "    \n",
      "    # train the classifier\n",
      "    svm = GridSearchCV( SVC(), tuned_parameters, cv=3, verbose=1 ).fit(X, y)\n",
      "    \n",
      "    # store scaler, PCA transformer, and SVM classifier for this subset\n",
      "    scalers.append(min_max_scaler)\n",
      "    pca_xfrms.append(pca)\n",
      "    clfs.append(svm)"
     ],
     "language": "python",
     "metadata": {},
     "outputs": [
      {
       "output_type": "stream",
       "stream": "stderr",
       "text": [
        "[Parallel(n_jobs=1)]: Done   1 jobs       | elapsed:   32.7s\n",
        "[Parallel(n_jobs=1)]: Done  27 out of  27 | elapsed:  6.7min finished\n"
       ]
      },
      {
       "output_type": "stream",
       "stream": "stderr",
       "text": [
        "[Parallel(n_jobs=1)]: Done   1 jobs       | elapsed:   33.8s\n",
        "[Parallel(n_jobs=1)]: Done  27 out of  27 | elapsed:  6.6min finished\n"
       ]
      },
      {
       "output_type": "stream",
       "stream": "stderr",
       "text": [
        "[Parallel(n_jobs=1)]: Done   1 jobs       | elapsed:   44.8s\n",
        "[Parallel(n_jobs=1)]: Done  27 out of  27 | elapsed:  9.1min finished\n"
       ]
      }
     ],
     "prompt_number": 3
    },
    {
     "cell_type": "code",
     "collapsed": false,
     "input": [
      "yt = df.ix[splits[-1],0].astype(int)\n",
      "preds = np.zeros((len(clfs), len(yt)))\n",
      "\n",
      "i = 0\n",
      "for scaler, xfrm, clf in zip(scalers, pca_xfrms, clfs):\n",
      "    Xt = df.ix[splits[-1],1:].copy()\n",
      "    Xt = scaler.transform(Xt)\n",
      "    preds[i] = clf.predict(xfrm.transform(Xt))\n",
      "    \n",
      "    i += 1\n",
      "    \n",
      "preds.shape"
     ],
     "language": "python",
     "metadata": {},
     "outputs": [
      {
       "output_type": "pyout",
       "prompt_number": 4,
       "text": [
        "(3, 7000)"
       ]
      }
     ],
     "prompt_number": 4
    },
    {
     "cell_type": "code",
     "collapsed": false,
     "input": [
      "total_pred = [np.bincount(x).argmax() for x in preds.T.astype(int)]\n",
      "print 'prediction accuracy: %.4f' % (1./len(yt) * sum( total_pred == yt ))"
     ],
     "language": "python",
     "metadata": {},
     "outputs": [
      {
       "output_type": "stream",
       "stream": "stdout",
       "text": [
        "prediction accuracy: 0.9744\n"
       ]
      }
     ],
     "prompt_number": 5
    },
    {
     "cell_type": "code",
     "collapsed": false,
     "input": [
      "print np.array(total_pred[:30])"
     ],
     "language": "python",
     "metadata": {},
     "outputs": [
      {
       "output_type": "stream",
       "stream": "stdout",
       "text": [
        "[2 2 5 4 7 6 0 6 4 5 4 8 5 2 6 2 3 9 3 9 4 0 4 5 2 0 6 5 5 0]\n"
       ]
      }
     ],
     "prompt_number": 6
    },
    {
     "cell_type": "code",
     "collapsed": false,
     "input": [
      "print yt[:30].values"
     ],
     "language": "python",
     "metadata": {},
     "outputs": [
      {
       "output_type": "stream",
       "stream": "stdout",
       "text": [
        "[2 2 5 4 7 6 0 6 4 5 4 8 5 2 6 2 3 9 3 9 4 0 4 5 2 0 6 5 5 0]\n"
       ]
      }
     ],
     "prompt_number": 7
    },
    {
     "cell_type": "code",
     "collapsed": false,
     "input": [
      "preds[:,23]"
     ],
     "language": "python",
     "metadata": {},
     "outputs": [
      {
       "output_type": "pyout",
       "prompt_number": 8,
       "text": [
        "array([5, 5, 8])"
       ]
      }
     ],
     "prompt_number": 8
    },
    {
     "cell_type": "heading",
     "level": 3,
     "metadata": {},
     "source": [
      "Submission attempts"
     ]
    },
    {
     "cell_type": "markdown",
     "metadata": {},
     "source": [
      "* First attempt: split data into three, build an SVM for each, majority voting for end prediction --> Kaggle score 0.97429"
     ]
    },
    {
     "cell_type": "code",
     "collapsed": false,
     "input": [
      "scalers = []\n",
      "pca_xfrms = []\n",
      "clfs = []\n",
      "\n",
      "# compute indexes where to split the data\n",
      "ixs = np.arange(df.shape[0])\n",
      "splits = np.split(ixs, [14000, 28000])\n",
      "\n",
      "tuned_parameters = [{'gamma': [0.1, 1e-2, 1e-3], 'C': [10, 100, 1000]}]\n",
      "\n",
      "# use all data for training\n",
      "for s in splits:\n",
      "    min_max_scaler = MinMaxScaler()\n",
      "    pca = PCA(n_components=80)\n",
      "\n",
      "    # get training subset\n",
      "    X = df.ix[s,1:].copy()\n",
      "    y = df.ix[s,0].copy()\n",
      "    \n",
      "    # all the transformations\n",
      "    X = min_max_scaler.fit_transform(X)\n",
      "    X = pca.fit_transform(X)\n",
      "    \n",
      "    # train the classifier\n",
      "    svm = GridSearchCV( SVC(), tuned_parameters, cv=3, verbose=1 ).fit(X, y)\n",
      "    \n",
      "    # store scaler, PCA transformer, and SVM classifier for this subset\n",
      "    scalers.append(min_max_scaler)\n",
      "    pca_xfrms.append(pca)\n",
      "    clfs.append(svm)"
     ],
     "language": "python",
     "metadata": {},
     "outputs": [
      {
       "output_type": "stream",
       "stream": "stderr",
       "text": [
        "[Parallel(n_jobs=1)]: Done   1 jobs       | elapsed:   52.9s\n",
        "[Parallel(n_jobs=1)]: Done  27 out of  27 | elapsed: 10.5min finished\n"
       ]
      },
      {
       "output_type": "stream",
       "stream": "stderr",
       "text": [
        "[Parallel(n_jobs=1)]: Done   1 jobs       | elapsed:   52.6s\n",
        "[Parallel(n_jobs=1)]: Done  27 out of  27 | elapsed: 10.6min finished\n"
       ]
      },
      {
       "output_type": "stream",
       "stream": "stderr",
       "text": [
        "[Parallel(n_jobs=1)]: Done   1 jobs       | elapsed:   52.5s\n",
        "[Parallel(n_jobs=1)]: Done  27 out of  27 | elapsed: 10.4min finished\n"
       ]
      }
     ],
     "prompt_number": 3
    },
    {
     "cell_type": "code",
     "collapsed": false,
     "input": [
      "df2 = pd.read_csv('./data/test.csv')\n",
      "df2 = df2.astype(float64)"
     ],
     "language": "python",
     "metadata": {},
     "outputs": [],
     "prompt_number": 6
    },
    {
     "cell_type": "code",
     "collapsed": false,
     "input": [
      "preds = np.zeros((len(clfs), df2.shape[0]))\n",
      "\n",
      "i = 0\n",
      "for scaler, xfrm, clf in zip(scalers, pca_xfrms, clfs):\n",
      "    Xt = df2.copy()\n",
      "    Xt = scaler.transform(Xt)\n",
      "    preds[i] = clf.predict(xfrm.transform(Xt))\n",
      "    \n",
      "    i += 1\n",
      "    \n",
      "total_pred = [np.bincount(x).argmax() for x in preds.T.astype(int)]"
     ],
     "language": "python",
     "metadata": {},
     "outputs": [],
     "prompt_number": 7
    },
    {
     "cell_type": "code",
     "collapsed": false,
     "input": [
      "with open('./data/submission.csv', 'w') as of:\n",
      "    of.write('\\n'.join(str(x) for x in total_pred))"
     ],
     "language": "python",
     "metadata": {},
     "outputs": [],
     "prompt_number": 9
    },
    {
     "cell_type": "code",
     "collapsed": false,
     "input": [],
     "language": "python",
     "metadata": {},
     "outputs": []
    }
   ],
   "metadata": {}
  }
 ]
}